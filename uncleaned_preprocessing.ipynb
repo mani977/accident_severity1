{
 "cells": [
  {
   "cell_type": "markdown",
   "id": "4d1e35bf",
   "metadata": {},
   "source": [
    "#  Road Traffic Severity Classification"
   ]
  },
  {
   "cell_type": "markdown",
   "id": "e3efef93",
   "metadata": {},
   "source": [
    "### description"
   ]
  },
  {
   "cell_type": "markdown",
   "id": "26dbac5d",
   "metadata": {},
   "source": [
    "This data set is collected from Addis Ababa Sub-city police departments for master's research work.\n",
    "The data set has been prepared from manual records of road traffic accidents of the year 2017-20. \n",
    "All the sensitive information has been excluded during data encoding and finally it has 32 features and \n",
    "12316 instances of the accident. Then it is preprocessed and for identification of major causes of the \n",
    "accident by analyzing it using different machine learning classification algorithms"
   ]
  },
  {
   "cell_type": "code",
   "execution_count": null,
   "id": "1506f6dd",
   "metadata": {},
   "outputs": [],
   "source": []
  },
  {
   "cell_type": "code",
   "execution_count": 1,
   "id": "37c5b273",
   "metadata": {},
   "outputs": [],
   "source": [
    "#importing libraries\n",
    "\n",
    "import pandas as pd\n"
   ]
  },
  {
   "cell_type": "markdown",
   "id": "7fdbd834",
   "metadata": {},
   "source": [
    "# task2: preprocessing\n"
   ]
  },
  {
   "cell_type": "code",
   "execution_count": 2,
   "id": "47b65e78",
   "metadata": {},
   "outputs": [],
   "source": [
    "df=pd.read_csv('RTA Dataset.csv')"
   ]
  },
  {
   "cell_type": "code",
   "execution_count": 3,
   "id": "10f57d61",
   "metadata": {},
   "outputs": [
    {
     "data": {
      "text/plain": [
       "array(['Not a Pedestrian', \"Crossing from driver's nearside\",\n",
       "       'Crossing from nearside - masked by parked or statioNot a Pedestrianry vehicle',\n",
       "       'Unknown or other',\n",
       "       'Crossing from offside - masked by  parked or statioNot a Pedestrianry vehicle',\n",
       "       'In carriageway, statioNot a Pedestrianry - not crossing  (standing or playing)',\n",
       "       'Walking along in carriageway, back to traffic',\n",
       "       'Walking along in carriageway, facing traffic',\n",
       "       'In carriageway, statioNot a Pedestrianry - not crossing  (standing or playing) - masked by parked or statioNot a Pedestrianry vehicle'],\n",
       "      dtype=object)"
      ]
     },
     "execution_count": 3,
     "metadata": {},
     "output_type": "execute_result"
    }
   ],
   "source": [
    "df[\"Pedestrian_movement\"].unique()"
   ]
  },
  {
   "cell_type": "code",
   "execution_count": null,
   "id": "f8a04075",
   "metadata": {},
   "outputs": [],
   "source": []
  },
  {
   "cell_type": "code",
   "execution_count": 4,
   "id": "cb2df706",
   "metadata": {},
   "outputs": [],
   "source": [
    "l=[]\n",
    "for i in df.columns:\n",
    "    if df[i].isnull().sum()>1000:\n",
    "        l.append(i)\n",
    "     "
   ]
  },
  {
   "cell_type": "code",
   "execution_count": 5,
   "id": "60379f98",
   "metadata": {},
   "outputs": [
    {
     "data": {
      "text/plain": [
       "['Service_year_of_vehicle',\n",
       " 'Defect_of_vehicle',\n",
       " 'Work_of_casuality',\n",
       " 'Fitness_of_casuality']"
      ]
     },
     "execution_count": 5,
     "metadata": {},
     "output_type": "execute_result"
    }
   ],
   "source": [
    "l"
   ]
  },
  {
   "cell_type": "code",
   "execution_count": 6,
   "id": "34213c70",
   "metadata": {},
   "outputs": [],
   "source": [
    "x=df[df['Service_year_of_vehicle'].isna()==False]"
   ]
  },
  {
   "cell_type": "code",
   "execution_count": 7,
   "id": "eb20e8c2",
   "metadata": {},
   "outputs": [
    {
     "data": {
      "text/plain": [
       "Unknown       2883\n",
       "2-5yrs        1792\n",
       "Above 10yr    1324\n",
       "5-10yrs       1280\n",
       "1-2yr          827\n",
       "Below 1yr      282\n",
       "Name: Service_year_of_vehicle, dtype: int64"
      ]
     },
     "execution_count": 7,
     "metadata": {},
     "output_type": "execute_result"
    }
   ],
   "source": [
    "x['Service_year_of_vehicle'].value_counts()"
   ]
  },
  {
   "cell_type": "code",
   "execution_count": 8,
   "id": "7eeabad7",
   "metadata": {},
   "outputs": [],
   "source": [
    "x=df[df['Defect_of_vehicle'].isna()==False]"
   ]
  },
  {
   "cell_type": "code",
   "execution_count": 9,
   "id": "eb122d78",
   "metadata": {},
   "outputs": [
    {
     "data": {
      "text/plain": [
       "No defect    7777\n",
       "7              76\n",
       "5              36\n",
       "Name: Defect_of_vehicle, dtype: int64"
      ]
     },
     "execution_count": 9,
     "metadata": {},
     "output_type": "execute_result"
    }
   ],
   "source": [
    "x['Defect_of_vehicle'].value_counts()"
   ]
  },
  {
   "cell_type": "code",
   "execution_count": 10,
   "id": "bb8d212b",
   "metadata": {},
   "outputs": [],
   "source": [
    "df.loc[df['Defect_of_vehicle'].isna(),'Defect_of_vehicle']='No defect'"
   ]
  },
  {
   "cell_type": "code",
   "execution_count": 11,
   "id": "5b2bb581",
   "metadata": {},
   "outputs": [],
   "source": [
    "x=df[df['Work_of_casuality'].isna()==False]"
   ]
  },
  {
   "cell_type": "code",
   "execution_count": 12,
   "id": "e6299256",
   "metadata": {},
   "outputs": [
    {
     "data": {
      "text/plain": [
       "Driver           5903\n",
       "Self-employed    2044\n",
       "Employee          553\n",
       "Other             463\n",
       "Student           103\n",
       "Unemployed         33\n",
       "Unknown            19\n",
       "Name: Work_of_casuality, dtype: int64"
      ]
     },
     "execution_count": 12,
     "metadata": {},
     "output_type": "execute_result"
    }
   ],
   "source": [
    "x['Work_of_casuality'].value_counts()"
   ]
  },
  {
   "cell_type": "code",
   "execution_count": null,
   "id": "274c218d",
   "metadata": {
    "scrolled": true
   },
   "outputs": [],
   "source": []
  },
  {
   "cell_type": "code",
   "execution_count": 13,
   "id": "7bcf2b76",
   "metadata": {},
   "outputs": [],
   "source": [
    "ind=(df['Owner_of_vehicle']=='Owner') &(df['Work_of_casuality']==\"Driver\")"
   ]
  },
  {
   "cell_type": "code",
   "execution_count": 14,
   "id": "53668ee0",
   "metadata": {},
   "outputs": [
    {
     "data": {
      "text/plain": [
       "(5003, 32)"
      ]
     },
     "execution_count": 14,
     "metadata": {},
     "output_type": "execute_result"
    }
   ],
   "source": [
    "df[ind].shape\n"
   ]
  },
  {
   "cell_type": "code",
   "execution_count": 15,
   "id": "828e5125",
   "metadata": {},
   "outputs": [
    {
     "name": "stderr",
     "output_type": "stream",
     "text": [
      "<>:1: SyntaxWarning: \"is\" with a literal. Did you mean \"==\"?\n",
      "<>:1: SyntaxWarning: \"is\" with a literal. Did you mean \"==\"?\n",
      "C:\\Users\\manis\\AppData\\Local\\Temp\\ipykernel_9344\\3014065283.py:1: SyntaxWarning: \"is\" with a literal. Did you mean \"==\"?\n",
      "  df['Work_of_casuality']=df['Owner_of_vehicle'].apply(lambda x: 'Driver'if x is 'Owner' else 'Driver')\n"
     ]
    }
   ],
   "source": [
    "df['Work_of_casuality']=df['Owner_of_vehicle'].apply(lambda x: 'Driver'if x is 'Owner' else 'Driver')"
   ]
  },
  {
   "cell_type": "code",
   "execution_count": 16,
   "id": "93e086b6",
   "metadata": {},
   "outputs": [
    {
     "data": {
      "text/plain": [
       "Normal          9608\n",
       "NormalNormal      19\n",
       "Deaf              18\n",
       "Other             18\n",
       "Blind             18\n",
       "Name: Fitness_of_casuality, dtype: int64"
      ]
     },
     "execution_count": 16,
     "metadata": {},
     "output_type": "execute_result"
    }
   ],
   "source": [
    "df['Fitness_of_casuality'].value_counts()"
   ]
  },
  {
   "cell_type": "code",
   "execution_count": 17,
   "id": "6f6b6a45",
   "metadata": {},
   "outputs": [],
   "source": [
    "df['Fitness_of_casuality']=df['Fitness_of_casuality'].fillna('Normal')"
   ]
  },
  {
   "cell_type": "code",
   "execution_count": 18,
   "id": "82150305",
   "metadata": {},
   "outputs": [],
   "source": [
    "l=[]\n",
    "for i in df.columns:\n",
    "    if df[i].isnull().sum()>0:\n",
    "        l.append(i)\n",
    "     "
   ]
  },
  {
   "cell_type": "code",
   "execution_count": 19,
   "id": "a0ee304d",
   "metadata": {},
   "outputs": [],
   "source": [
    "l.remove('Service_year_of_vehicle')"
   ]
  },
  {
   "cell_type": "code",
   "execution_count": 20,
   "id": "b5e052bd",
   "metadata": {},
   "outputs": [],
   "source": [
    "x=df['Educational_level'].value_counts()"
   ]
  },
  {
   "cell_type": "code",
   "execution_count": 21,
   "id": "66d24a0e",
   "metadata": {},
   "outputs": [
    {
     "data": {
      "text/plain": [
       "'Junior high school'"
      ]
     },
     "execution_count": 21,
     "metadata": {},
     "output_type": "execute_result"
    }
   ],
   "source": [
    "x.index[0]\n"
   ]
  },
  {
   "cell_type": "code",
   "execution_count": 22,
   "id": "3ba26a43",
   "metadata": {},
   "outputs": [],
   "source": [
    "for i in l:\n",
    "    df[i]=df[i].fillna(df[i].value_counts()[0])"
   ]
  },
  {
   "cell_type": "code",
   "execution_count": 23,
   "id": "bbe21997",
   "metadata": {},
   "outputs": [],
   "source": [
    "df=df.drop('Service_year_of_vehicle',axis=1)"
   ]
  },
  {
   "cell_type": "code",
   "execution_count": 24,
   "id": "bcd6b729",
   "metadata": {},
   "outputs": [
    {
     "name": "stdout",
     "output_type": "stream",
     "text": [
      "<class 'pandas.core.frame.DataFrame'>\n",
      "RangeIndex: 12316 entries, 0 to 12315\n",
      "Data columns (total 31 columns):\n",
      " #   Column                       Non-Null Count  Dtype \n",
      "---  ------                       --------------  ----- \n",
      " 0   Time                         12316 non-null  object\n",
      " 1   Day_of_week                  12316 non-null  object\n",
      " 2   Age_band_of_driver           12316 non-null  object\n",
      " 3   Sex_of_driver                12316 non-null  object\n",
      " 4   Educational_level            12316 non-null  object\n",
      " 5   Vehicle_driver_relation      12316 non-null  object\n",
      " 6   Driving_experience           12316 non-null  object\n",
      " 7   Type_of_vehicle              12316 non-null  object\n",
      " 8   Owner_of_vehicle             12316 non-null  object\n",
      " 9   Defect_of_vehicle            12316 non-null  object\n",
      " 10  Area_accident_occured        12316 non-null  object\n",
      " 11  Lanes_or_Medians             12316 non-null  object\n",
      " 12  Road_allignment              12316 non-null  object\n",
      " 13  Types_of_Junction            12316 non-null  object\n",
      " 14  Road_surface_type            12316 non-null  object\n",
      " 15  Road_surface_conditions      12316 non-null  object\n",
      " 16  Light_conditions             12316 non-null  object\n",
      " 17  Weather_conditions           12316 non-null  object\n",
      " 18  Type_of_collision            12316 non-null  object\n",
      " 19  Number_of_vehicles_involved  12316 non-null  int64 \n",
      " 20  Number_of_casualties         12316 non-null  int64 \n",
      " 21  Vehicle_movement             12316 non-null  object\n",
      " 22  Casualty_class               12316 non-null  object\n",
      " 23  Sex_of_casualty              12316 non-null  object\n",
      " 24  Age_band_of_casualty         12316 non-null  object\n",
      " 25  Casualty_severity            12316 non-null  object\n",
      " 26  Work_of_casuality            12316 non-null  object\n",
      " 27  Fitness_of_casuality         12316 non-null  object\n",
      " 28  Pedestrian_movement          12316 non-null  object\n",
      " 29  Cause_of_accident            12316 non-null  object\n",
      " 30  Accident_severity            12316 non-null  object\n",
      "dtypes: int64(2), object(29)\n",
      "memory usage: 2.9+ MB\n"
     ]
    },
    {
     "data": {
      "text/plain": [
       "array(['Asphalt roads', 'Earth roads', 11296,\n",
       "       'Asphalt roads with some distress', 'Gravel roads', 'Other'],\n",
       "      dtype=object)"
      ]
     },
     "execution_count": 24,
     "metadata": {},
     "output_type": "execute_result"
    }
   ],
   "source": [
    "df.info()\n",
    "df['Road_surface_type'].unique()"
   ]
  },
  {
   "cell_type": "code",
   "execution_count": 25,
   "id": "80e27be8",
   "metadata": {},
   "outputs": [],
   "source": [
    "df['Time']=pd.to_datetime(df['Time'],format='%X')"
   ]
  },
  {
   "cell_type": "code",
   "execution_count": 26,
   "id": "29642361",
   "metadata": {},
   "outputs": [],
   "source": [
    "df1=df.copy()"
   ]
  },
  {
   "cell_type": "code",
   "execution_count": 27,
   "id": "3e74f554",
   "metadata": {},
   "outputs": [],
   "source": [
    "df1['Time']=df1['Time'].dt.hour"
   ]
  },
  {
   "cell_type": "code",
   "execution_count": 28,
   "id": "75b4816f",
   "metadata": {},
   "outputs": [
    {
     "data": {
      "text/plain": [
       "0        17\n",
       "1        17\n",
       "2        17\n",
       "3         1\n",
       "4         1\n",
       "         ..\n",
       "12311    16\n",
       "12312    18\n",
       "12313    13\n",
       "12314    13\n",
       "12315    13\n",
       "Name: Time, Length: 12316, dtype: int64"
      ]
     },
     "execution_count": 28,
     "metadata": {},
     "output_type": "execute_result"
    }
   ],
   "source": [
    "df1['Time']"
   ]
  },
  {
   "cell_type": "code",
   "execution_count": 29,
   "id": "0f900ee2",
   "metadata": {},
   "outputs": [
    {
     "name": "stdout",
     "output_type": "stream",
     "text": [
      "<class 'pandas.core.frame.DataFrame'>\n",
      "RangeIndex: 12316 entries, 0 to 12315\n",
      "Data columns (total 31 columns):\n",
      " #   Column                       Non-Null Count  Dtype \n",
      "---  ------                       --------------  ----- \n",
      " 0   Time                         12316 non-null  int64 \n",
      " 1   Day_of_week                  12316 non-null  object\n",
      " 2   Age_band_of_driver           12316 non-null  object\n",
      " 3   Sex_of_driver                12316 non-null  object\n",
      " 4   Educational_level            12316 non-null  object\n",
      " 5   Vehicle_driver_relation      12316 non-null  object\n",
      " 6   Driving_experience           12316 non-null  object\n",
      " 7   Type_of_vehicle              12316 non-null  object\n",
      " 8   Owner_of_vehicle             12316 non-null  object\n",
      " 9   Defect_of_vehicle            12316 non-null  object\n",
      " 10  Area_accident_occured        12316 non-null  object\n",
      " 11  Lanes_or_Medians             12316 non-null  object\n",
      " 12  Road_allignment              12316 non-null  object\n",
      " 13  Types_of_Junction            12316 non-null  object\n",
      " 14  Road_surface_type            12316 non-null  object\n",
      " 15  Road_surface_conditions      12316 non-null  object\n",
      " 16  Light_conditions             12316 non-null  object\n",
      " 17  Weather_conditions           12316 non-null  object\n",
      " 18  Type_of_collision            12316 non-null  object\n",
      " 19  Number_of_vehicles_involved  12316 non-null  int64 \n",
      " 20  Number_of_casualties         12316 non-null  int64 \n",
      " 21  Vehicle_movement             12316 non-null  object\n",
      " 22  Casualty_class               12316 non-null  object\n",
      " 23  Sex_of_casualty              12316 non-null  object\n",
      " 24  Age_band_of_casualty         12316 non-null  object\n",
      " 25  Casualty_severity            12316 non-null  object\n",
      " 26  Work_of_casuality            12316 non-null  object\n",
      " 27  Fitness_of_casuality         12316 non-null  object\n",
      " 28  Pedestrian_movement          12316 non-null  object\n",
      " 29  Cause_of_accident            12316 non-null  object\n",
      " 30  Accident_severity            12316 non-null  object\n",
      "dtypes: int64(3), object(28)\n",
      "memory usage: 2.9+ MB\n"
     ]
    }
   ],
   "source": [
    "df1.info()"
   ]
  },
  {
   "cell_type": "code",
   "execution_count": null,
   "id": "45e94b16",
   "metadata": {},
   "outputs": [],
   "source": []
  },
  {
   "cell_type": "code",
   "execution_count": 30,
   "id": "fd0a5d41",
   "metadata": {},
   "outputs": [
    {
     "data": {
      "text/plain": [
       "array(['Monday', 'Sunday', 'Friday', 'Wednesday', 'Saturday', 'Thursday',\n",
       "       'Tuesday'], dtype=object)"
      ]
     },
     "execution_count": 30,
     "metadata": {},
     "output_type": "execute_result"
    }
   ],
   "source": [
    "df['Day_of_week'].unique()"
   ]
  },
  {
   "cell_type": "code",
   "execution_count": 31,
   "id": "92e2fab5",
   "metadata": {},
   "outputs": [],
   "source": [
    "diction={\"Monday\":1,\"Tuesday\":2,'Wednesday':3,'Thursday':4,\"Friday\":5,'Saturday':6,\"Sunday\":7}"
   ]
  },
  {
   "cell_type": "code",
   "execution_count": 32,
   "id": "ef04b8e2",
   "metadata": {},
   "outputs": [],
   "source": [
    "df1['Day_of_week']=df1['Day_of_week'].map(diction)"
   ]
  },
  {
   "cell_type": "code",
   "execution_count": 33,
   "id": "12d79221",
   "metadata": {},
   "outputs": [],
   "source": [
    "l=df1['Age_band_of_driver'].value_counts().index"
   ]
  },
  {
   "cell_type": "code",
   "execution_count": 34,
   "id": "3c47b1ef",
   "metadata": {},
   "outputs": [
    {
     "data": {
      "text/plain": [
       "Index(['18-30', '31-50', 'Over 51', 'Unknown', 'Under 18'], dtype='object')"
      ]
     },
     "execution_count": 34,
     "metadata": {},
     "output_type": "execute_result"
    }
   ],
   "source": [
    "l"
   ]
  },
  {
   "cell_type": "code",
   "execution_count": 35,
   "id": "ac78d49f",
   "metadata": {},
   "outputs": [],
   "source": [
    "x={i:j for i,j in zip(l,range(len(l)-1,-1,-1))}"
   ]
  },
  {
   "cell_type": "code",
   "execution_count": 36,
   "id": "794812fb",
   "metadata": {},
   "outputs": [
    {
     "data": {
      "text/plain": [
       "{'18-30': 4, '31-50': 3, 'Over 51': 2, 'Unknown': 1, 'Under 18': 0}"
      ]
     },
     "execution_count": 36,
     "metadata": {},
     "output_type": "execute_result"
    }
   ],
   "source": [
    "x"
   ]
  },
  {
   "cell_type": "code",
   "execution_count": 37,
   "id": "3e28efe2",
   "metadata": {},
   "outputs": [
    {
     "data": {
      "text/plain": [
       "['Age_band_of_driver',\n",
       " 'Sex_of_driver',\n",
       " 'Educational_level',\n",
       " 'Vehicle_driver_relation',\n",
       " 'Driving_experience',\n",
       " 'Type_of_vehicle',\n",
       " 'Owner_of_vehicle',\n",
       " 'Defect_of_vehicle',\n",
       " 'Area_accident_occured',\n",
       " 'Lanes_or_Medians',\n",
       " 'Road_allignment',\n",
       " 'Types_of_Junction',\n",
       " 'Road_surface_type',\n",
       " 'Road_surface_conditions',\n",
       " 'Light_conditions',\n",
       " 'Weather_conditions',\n",
       " 'Type_of_collision',\n",
       " 'Vehicle_movement',\n",
       " 'Casualty_class',\n",
       " 'Sex_of_casualty',\n",
       " 'Age_band_of_casualty',\n",
       " 'Casualty_severity',\n",
       " 'Work_of_casuality',\n",
       " 'Fitness_of_casuality',\n",
       " 'Pedestrian_movement',\n",
       " 'Cause_of_accident',\n",
       " 'Accident_severity']"
      ]
     },
     "execution_count": 37,
     "metadata": {},
     "output_type": "execute_result"
    }
   ],
   "source": [
    "categorical=[]\n",
    "for i in df.columns:\n",
    "    if df1[i].dtype=='O':\n",
    "        categorical.append(i)\n",
    "categorical"
   ]
  },
  {
   "cell_type": "code",
   "execution_count": 38,
   "id": "98d237f5",
   "metadata": {},
   "outputs": [
    {
     "data": {
      "text/plain": [
       "<bound method Series.unique of 0        Asphalt roads\n",
       "1        Asphalt roads\n",
       "2        Asphalt roads\n",
       "3          Earth roads\n",
       "4        Asphalt roads\n",
       "             ...      \n",
       "12311    Asphalt roads\n",
       "12312    Asphalt roads\n",
       "12313    Asphalt roads\n",
       "12314    Asphalt roads\n",
       "12315    Asphalt roads\n",
       "Name: Road_surface_type, Length: 12316, dtype: object>"
      ]
     },
     "execution_count": 38,
     "metadata": {},
     "output_type": "execute_result"
    }
   ],
   "source": [
    "df1['Road_surface_type'].unique"
   ]
  },
  {
   "cell_type": "code",
   "execution_count": 39,
   "id": "e9a20419",
   "metadata": {},
   "outputs": [],
   "source": [
    "for i in categorical:\n",
    "    l=[]\n",
    "    x={}\n",
    "    l=df1[i].value_counts().index\n",
    "    x={i:j for i,j in zip(l,range(len(l)-1,-1,-1))}\n",
    "\n",
    "    df1[i]=df1[i].map(x)\n",
    "    "
   ]
  },
  {
   "cell_type": "code",
   "execution_count": 40,
   "id": "fb03cdec",
   "metadata": {},
   "outputs": [
    {
     "data": {
      "text/html": [
       "<div>\n",
       "<style scoped>\n",
       "    .dataframe tbody tr th:only-of-type {\n",
       "        vertical-align: middle;\n",
       "    }\n",
       "\n",
       "    .dataframe tbody tr th {\n",
       "        vertical-align: top;\n",
       "    }\n",
       "\n",
       "    .dataframe thead th {\n",
       "        text-align: right;\n",
       "    }\n",
       "</style>\n",
       "<table border=\"1\" class=\"dataframe\">\n",
       "  <thead>\n",
       "    <tr style=\"text-align: right;\">\n",
       "      <th></th>\n",
       "      <th>Time</th>\n",
       "      <th>Day_of_week</th>\n",
       "      <th>Age_band_of_driver</th>\n",
       "      <th>Sex_of_driver</th>\n",
       "      <th>Educational_level</th>\n",
       "      <th>Vehicle_driver_relation</th>\n",
       "      <th>Driving_experience</th>\n",
       "      <th>Type_of_vehicle</th>\n",
       "      <th>Owner_of_vehicle</th>\n",
       "      <th>Defect_of_vehicle</th>\n",
       "      <th>...</th>\n",
       "      <th>Vehicle_movement</th>\n",
       "      <th>Casualty_class</th>\n",
       "      <th>Sex_of_casualty</th>\n",
       "      <th>Age_band_of_casualty</th>\n",
       "      <th>Casualty_severity</th>\n",
       "      <th>Work_of_casuality</th>\n",
       "      <th>Fitness_of_casuality</th>\n",
       "      <th>Pedestrian_movement</th>\n",
       "      <th>Cause_of_accident</th>\n",
       "      <th>Accident_severity</th>\n",
       "    </tr>\n",
       "  </thead>\n",
       "  <tbody>\n",
       "    <tr>\n",
       "      <th>0</th>\n",
       "      <td>17</td>\n",
       "      <td>1</td>\n",
       "      <td>4</td>\n",
       "      <td>2</td>\n",
       "      <td>3</td>\n",
       "      <td>4</td>\n",
       "      <td>4</td>\n",
       "      <td>17</td>\n",
       "      <td>4</td>\n",
       "      <td>2</td>\n",
       "      <td>...</td>\n",
       "      <td>13</td>\n",
       "      <td>2</td>\n",
       "      <td>1</td>\n",
       "      <td>5</td>\n",
       "      <td>2</td>\n",
       "      <td>0</td>\n",
       "      <td>4</td>\n",
       "      <td>8</td>\n",
       "      <td>14</td>\n",
       "      <td>2</td>\n",
       "    </tr>\n",
       "    <tr>\n",
       "      <th>1</th>\n",
       "      <td>17</td>\n",
       "      <td>1</td>\n",
       "      <td>3</td>\n",
       "      <td>2</td>\n",
       "      <td>7</td>\n",
       "      <td>4</td>\n",
       "      <td>5</td>\n",
       "      <td>8</td>\n",
       "      <td>4</td>\n",
       "      <td>2</td>\n",
       "      <td>...</td>\n",
       "      <td>13</td>\n",
       "      <td>2</td>\n",
       "      <td>1</td>\n",
       "      <td>5</td>\n",
       "      <td>2</td>\n",
       "      <td>0</td>\n",
       "      <td>4</td>\n",
       "      <td>8</td>\n",
       "      <td>11</td>\n",
       "      <td>2</td>\n",
       "    </tr>\n",
       "    <tr>\n",
       "      <th>2</th>\n",
       "      <td>17</td>\n",
       "      <td>1</td>\n",
       "      <td>4</td>\n",
       "      <td>2</td>\n",
       "      <td>7</td>\n",
       "      <td>4</td>\n",
       "      <td>4</td>\n",
       "      <td>16</td>\n",
       "      <td>4</td>\n",
       "      <td>2</td>\n",
       "      <td>...</td>\n",
       "      <td>13</td>\n",
       "      <td>3</td>\n",
       "      <td>2</td>\n",
       "      <td>3</td>\n",
       "      <td>3</td>\n",
       "      <td>0</td>\n",
       "      <td>4</td>\n",
       "      <td>8</td>\n",
       "      <td>17</td>\n",
       "      <td>1</td>\n",
       "    </tr>\n",
       "    <tr>\n",
       "      <th>3</th>\n",
       "      <td>1</td>\n",
       "      <td>7</td>\n",
       "      <td>4</td>\n",
       "      <td>2</td>\n",
       "      <td>7</td>\n",
       "      <td>4</td>\n",
       "      <td>7</td>\n",
       "      <td>8</td>\n",
       "      <td>3</td>\n",
       "      <td>2</td>\n",
       "      <td>...</td>\n",
       "      <td>13</td>\n",
       "      <td>1</td>\n",
       "      <td>0</td>\n",
       "      <td>4</td>\n",
       "      <td>3</td>\n",
       "      <td>0</td>\n",
       "      <td>4</td>\n",
       "      <td>8</td>\n",
       "      <td>18</td>\n",
       "      <td>2</td>\n",
       "    </tr>\n",
       "    <tr>\n",
       "      <th>4</th>\n",
       "      <td>1</td>\n",
       "      <td>7</td>\n",
       "      <td>4</td>\n",
       "      <td>2</td>\n",
       "      <td>7</td>\n",
       "      <td>4</td>\n",
       "      <td>6</td>\n",
       "      <td>14</td>\n",
       "      <td>4</td>\n",
       "      <td>2</td>\n",
       "      <td>...</td>\n",
       "      <td>13</td>\n",
       "      <td>2</td>\n",
       "      <td>1</td>\n",
       "      <td>5</td>\n",
       "      <td>2</td>\n",
       "      <td>0</td>\n",
       "      <td>4</td>\n",
       "      <td>8</td>\n",
       "      <td>11</td>\n",
       "      <td>2</td>\n",
       "    </tr>\n",
       "  </tbody>\n",
       "</table>\n",
       "<p>5 rows × 31 columns</p>\n",
       "</div>"
      ],
      "text/plain": [
       "   Time  Day_of_week  Age_band_of_driver  Sex_of_driver  Educational_level  \\\n",
       "0    17            1                   4              2                  3   \n",
       "1    17            1                   3              2                  7   \n",
       "2    17            1                   4              2                  7   \n",
       "3     1            7                   4              2                  7   \n",
       "4     1            7                   4              2                  7   \n",
       "\n",
       "   Vehicle_driver_relation  Driving_experience  Type_of_vehicle  \\\n",
       "0                        4                   4               17   \n",
       "1                        4                   5                8   \n",
       "2                        4                   4               16   \n",
       "3                        4                   7                8   \n",
       "4                        4                   6               14   \n",
       "\n",
       "   Owner_of_vehicle  Defect_of_vehicle  ...  Vehicle_movement  Casualty_class  \\\n",
       "0                 4                  2  ...                13               2   \n",
       "1                 4                  2  ...                13               2   \n",
       "2                 4                  2  ...                13               3   \n",
       "3                 3                  2  ...                13               1   \n",
       "4                 4                  2  ...                13               2   \n",
       "\n",
       "   Sex_of_casualty  Age_band_of_casualty  Casualty_severity  \\\n",
       "0                1                     5                  2   \n",
       "1                1                     5                  2   \n",
       "2                2                     3                  3   \n",
       "3                0                     4                  3   \n",
       "4                1                     5                  2   \n",
       "\n",
       "   Work_of_casuality  Fitness_of_casuality  Pedestrian_movement  \\\n",
       "0                  0                     4                    8   \n",
       "1                  0                     4                    8   \n",
       "2                  0                     4                    8   \n",
       "3                  0                     4                    8   \n",
       "4                  0                     4                    8   \n",
       "\n",
       "   Cause_of_accident  Accident_severity  \n",
       "0                 14                  2  \n",
       "1                 11                  2  \n",
       "2                 17                  1  \n",
       "3                 18                  2  \n",
       "4                 11                  2  \n",
       "\n",
       "[5 rows x 31 columns]"
      ]
     },
     "execution_count": 40,
     "metadata": {},
     "output_type": "execute_result"
    }
   ],
   "source": [
    "df1.head()"
   ]
  },
  {
   "cell_type": "code",
   "execution_count": 41,
   "id": "8c1e16cd",
   "metadata": {},
   "outputs": [
    {
     "data": {
      "text/plain": [
       "Slight Injury     10415\n",
       "Serious Injury     1743\n",
       "Fatal injury        158\n",
       "Name: Accident_severity, dtype: int64"
      ]
     },
     "execution_count": 41,
     "metadata": {},
     "output_type": "execute_result"
    }
   ],
   "source": [
    "df['Accident_severity'].value_counts()"
   ]
  },
  {
   "cell_type": "code",
   "execution_count": 42,
   "id": "3c65a470",
   "metadata": {},
   "outputs": [],
   "source": [
    "df2=df1.copy()"
   ]
  },
  {
   "cell_type": "code",
   "execution_count": 43,
   "id": "e2f1e7db",
   "metadata": {},
   "outputs": [
    {
     "data": {
      "text/html": [
       "<div>\n",
       "<style scoped>\n",
       "    .dataframe tbody tr th:only-of-type {\n",
       "        vertical-align: middle;\n",
       "    }\n",
       "\n",
       "    .dataframe tbody tr th {\n",
       "        vertical-align: top;\n",
       "    }\n",
       "\n",
       "    .dataframe thead th {\n",
       "        text-align: right;\n",
       "    }\n",
       "</style>\n",
       "<table border=\"1\" class=\"dataframe\">\n",
       "  <thead>\n",
       "    <tr style=\"text-align: right;\">\n",
       "      <th></th>\n",
       "      <th>Time</th>\n",
       "      <th>Day_of_week</th>\n",
       "      <th>Age_band_of_driver</th>\n",
       "      <th>Sex_of_driver</th>\n",
       "      <th>Educational_level</th>\n",
       "      <th>Vehicle_driver_relation</th>\n",
       "      <th>Driving_experience</th>\n",
       "      <th>Type_of_vehicle</th>\n",
       "      <th>Owner_of_vehicle</th>\n",
       "      <th>Defect_of_vehicle</th>\n",
       "      <th>...</th>\n",
       "      <th>Vehicle_movement</th>\n",
       "      <th>Casualty_class</th>\n",
       "      <th>Sex_of_casualty</th>\n",
       "      <th>Age_band_of_casualty</th>\n",
       "      <th>Casualty_severity</th>\n",
       "      <th>Work_of_casuality</th>\n",
       "      <th>Fitness_of_casuality</th>\n",
       "      <th>Pedestrian_movement</th>\n",
       "      <th>Cause_of_accident</th>\n",
       "      <th>Accident_severity</th>\n",
       "    </tr>\n",
       "  </thead>\n",
       "  <tbody>\n",
       "    <tr>\n",
       "      <th>0</th>\n",
       "      <td>17</td>\n",
       "      <td>1</td>\n",
       "      <td>4</td>\n",
       "      <td>2</td>\n",
       "      <td>3</td>\n",
       "      <td>4</td>\n",
       "      <td>4</td>\n",
       "      <td>17</td>\n",
       "      <td>4</td>\n",
       "      <td>2</td>\n",
       "      <td>...</td>\n",
       "      <td>13</td>\n",
       "      <td>2</td>\n",
       "      <td>1</td>\n",
       "      <td>5</td>\n",
       "      <td>2</td>\n",
       "      <td>0</td>\n",
       "      <td>4</td>\n",
       "      <td>8</td>\n",
       "      <td>14</td>\n",
       "      <td>2</td>\n",
       "    </tr>\n",
       "    <tr>\n",
       "      <th>1</th>\n",
       "      <td>17</td>\n",
       "      <td>1</td>\n",
       "      <td>3</td>\n",
       "      <td>2</td>\n",
       "      <td>7</td>\n",
       "      <td>4</td>\n",
       "      <td>5</td>\n",
       "      <td>8</td>\n",
       "      <td>4</td>\n",
       "      <td>2</td>\n",
       "      <td>...</td>\n",
       "      <td>13</td>\n",
       "      <td>2</td>\n",
       "      <td>1</td>\n",
       "      <td>5</td>\n",
       "      <td>2</td>\n",
       "      <td>0</td>\n",
       "      <td>4</td>\n",
       "      <td>8</td>\n",
       "      <td>11</td>\n",
       "      <td>2</td>\n",
       "    </tr>\n",
       "    <tr>\n",
       "      <th>2</th>\n",
       "      <td>17</td>\n",
       "      <td>1</td>\n",
       "      <td>4</td>\n",
       "      <td>2</td>\n",
       "      <td>7</td>\n",
       "      <td>4</td>\n",
       "      <td>4</td>\n",
       "      <td>16</td>\n",
       "      <td>4</td>\n",
       "      <td>2</td>\n",
       "      <td>...</td>\n",
       "      <td>13</td>\n",
       "      <td>3</td>\n",
       "      <td>2</td>\n",
       "      <td>3</td>\n",
       "      <td>3</td>\n",
       "      <td>0</td>\n",
       "      <td>4</td>\n",
       "      <td>8</td>\n",
       "      <td>17</td>\n",
       "      <td>1</td>\n",
       "    </tr>\n",
       "    <tr>\n",
       "      <th>3</th>\n",
       "      <td>1</td>\n",
       "      <td>7</td>\n",
       "      <td>4</td>\n",
       "      <td>2</td>\n",
       "      <td>7</td>\n",
       "      <td>4</td>\n",
       "      <td>7</td>\n",
       "      <td>8</td>\n",
       "      <td>3</td>\n",
       "      <td>2</td>\n",
       "      <td>...</td>\n",
       "      <td>13</td>\n",
       "      <td>1</td>\n",
       "      <td>0</td>\n",
       "      <td>4</td>\n",
       "      <td>3</td>\n",
       "      <td>0</td>\n",
       "      <td>4</td>\n",
       "      <td>8</td>\n",
       "      <td>18</td>\n",
       "      <td>2</td>\n",
       "    </tr>\n",
       "    <tr>\n",
       "      <th>4</th>\n",
       "      <td>1</td>\n",
       "      <td>7</td>\n",
       "      <td>4</td>\n",
       "      <td>2</td>\n",
       "      <td>7</td>\n",
       "      <td>4</td>\n",
       "      <td>6</td>\n",
       "      <td>14</td>\n",
       "      <td>4</td>\n",
       "      <td>2</td>\n",
       "      <td>...</td>\n",
       "      <td>13</td>\n",
       "      <td>2</td>\n",
       "      <td>1</td>\n",
       "      <td>5</td>\n",
       "      <td>2</td>\n",
       "      <td>0</td>\n",
       "      <td>4</td>\n",
       "      <td>8</td>\n",
       "      <td>11</td>\n",
       "      <td>2</td>\n",
       "    </tr>\n",
       "  </tbody>\n",
       "</table>\n",
       "<p>5 rows × 31 columns</p>\n",
       "</div>"
      ],
      "text/plain": [
       "   Time  Day_of_week  Age_band_of_driver  Sex_of_driver  Educational_level  \\\n",
       "0    17            1                   4              2                  3   \n",
       "1    17            1                   3              2                  7   \n",
       "2    17            1                   4              2                  7   \n",
       "3     1            7                   4              2                  7   \n",
       "4     1            7                   4              2                  7   \n",
       "\n",
       "   Vehicle_driver_relation  Driving_experience  Type_of_vehicle  \\\n",
       "0                        4                   4               17   \n",
       "1                        4                   5                8   \n",
       "2                        4                   4               16   \n",
       "3                        4                   7                8   \n",
       "4                        4                   6               14   \n",
       "\n",
       "   Owner_of_vehicle  Defect_of_vehicle  ...  Vehicle_movement  Casualty_class  \\\n",
       "0                 4                  2  ...                13               2   \n",
       "1                 4                  2  ...                13               2   \n",
       "2                 4                  2  ...                13               3   \n",
       "3                 3                  2  ...                13               1   \n",
       "4                 4                  2  ...                13               2   \n",
       "\n",
       "   Sex_of_casualty  Age_band_of_casualty  Casualty_severity  \\\n",
       "0                1                     5                  2   \n",
       "1                1                     5                  2   \n",
       "2                2                     3                  3   \n",
       "3                0                     4                  3   \n",
       "4                1                     5                  2   \n",
       "\n",
       "   Work_of_casuality  Fitness_of_casuality  Pedestrian_movement  \\\n",
       "0                  0                     4                    8   \n",
       "1                  0                     4                    8   \n",
       "2                  0                     4                    8   \n",
       "3                  0                     4                    8   \n",
       "4                  0                     4                    8   \n",
       "\n",
       "   Cause_of_accident  Accident_severity  \n",
       "0                 14                  2  \n",
       "1                 11                  2  \n",
       "2                 17                  1  \n",
       "3                 18                  2  \n",
       "4                 11                  2  \n",
       "\n",
       "[5 rows x 31 columns]"
      ]
     },
     "execution_count": 43,
     "metadata": {},
     "output_type": "execute_result"
    }
   ],
   "source": [
    "df2.head()"
   ]
  },
  {
   "cell_type": "code",
   "execution_count": 44,
   "id": "ad37b38c",
   "metadata": {},
   "outputs": [
    {
     "name": "stdout",
     "output_type": "stream",
     "text": [
      "<class 'pandas.core.frame.DataFrame'>\n",
      "RangeIndex: 12316 entries, 0 to 12315\n",
      "Data columns (total 31 columns):\n",
      " #   Column                       Non-Null Count  Dtype\n",
      "---  ------                       --------------  -----\n",
      " 0   Time                         12316 non-null  int64\n",
      " 1   Day_of_week                  12316 non-null  int64\n",
      " 2   Age_band_of_driver           12316 non-null  int64\n",
      " 3   Sex_of_driver                12316 non-null  int64\n",
      " 4   Educational_level            12316 non-null  int64\n",
      " 5   Vehicle_driver_relation      12316 non-null  int64\n",
      " 6   Driving_experience           12316 non-null  int64\n",
      " 7   Type_of_vehicle              12316 non-null  int64\n",
      " 8   Owner_of_vehicle             12316 non-null  int64\n",
      " 9   Defect_of_vehicle            12316 non-null  int64\n",
      " 10  Area_accident_occured        12316 non-null  int64\n",
      " 11  Lanes_or_Medians             12316 non-null  int64\n",
      " 12  Road_allignment              12316 non-null  int64\n",
      " 13  Types_of_Junction            12316 non-null  int64\n",
      " 14  Road_surface_type            12316 non-null  int64\n",
      " 15  Road_surface_conditions      12316 non-null  int64\n",
      " 16  Light_conditions             12316 non-null  int64\n",
      " 17  Weather_conditions           12316 non-null  int64\n",
      " 18  Type_of_collision            12316 non-null  int64\n",
      " 19  Number_of_vehicles_involved  12316 non-null  int64\n",
      " 20  Number_of_casualties         12316 non-null  int64\n",
      " 21  Vehicle_movement             12316 non-null  int64\n",
      " 22  Casualty_class               12316 non-null  int64\n",
      " 23  Sex_of_casualty              12316 non-null  int64\n",
      " 24  Age_band_of_casualty         12316 non-null  int64\n",
      " 25  Casualty_severity            12316 non-null  int64\n",
      " 26  Work_of_casuality            12316 non-null  int64\n",
      " 27  Fitness_of_casuality         12316 non-null  int64\n",
      " 28  Pedestrian_movement          12316 non-null  int64\n",
      " 29  Cause_of_accident            12316 non-null  int64\n",
      " 30  Accident_severity            12316 non-null  int64\n",
      "dtypes: int64(31)\n",
      "memory usage: 2.9 MB\n"
     ]
    }
   ],
   "source": [
    "df2.info()"
   ]
  },
  {
   "cell_type": "code",
   "execution_count": null,
   "id": "4b6d93e7",
   "metadata": {},
   "outputs": [],
   "source": []
  },
  {
   "cell_type": "code",
   "execution_count": 45,
   "id": "d96706ab",
   "metadata": {},
   "outputs": [],
   "source": [
    "df3=df2.copy()"
   ]
  },
  {
   "cell_type": "code",
   "execution_count": 46,
   "id": "678fa931",
   "metadata": {},
   "outputs": [],
   "source": [
    "target=df3['Accident_severity']\n",
    "x=df3.drop('Accident_severity',axis=1)"
   ]
  },
  {
   "cell_type": "code",
   "execution_count": 47,
   "id": "53a51ec5",
   "metadata": {},
   "outputs": [
    {
     "name": "stdout",
     "output_type": "stream",
     "text": [
      "Requirement already satisfied: imblearn in e:\\anacondafiles\\lib\\site-packages (0.0)\n",
      "Requirement already satisfied: imbalanced-learn in e:\\anacondafiles\\lib\\site-packages (from imblearn) (0.10.1)\n",
      "Requirement already satisfied: numpy>=1.17.3 in e:\\anacondafiles\\lib\\site-packages (from imbalanced-learn->imblearn) (1.21.6)\n",
      "Requirement already satisfied: scipy>=1.3.2 in e:\\anacondafiles\\lib\\site-packages (from imbalanced-learn->imblearn) (1.9.3)\n",
      "Requirement already satisfied: scikit-learn>=1.0.2 in e:\\anacondafiles\\lib\\site-packages (from imbalanced-learn->imblearn) (1.0.2)\n",
      "Requirement already satisfied: joblib>=1.1.1 in e:\\anacondafiles\\lib\\site-packages (from imbalanced-learn->imblearn) (1.2.0)\n",
      "Requirement already satisfied: threadpoolctl>=2.0.0 in e:\\anacondafiles\\lib\\site-packages (from imbalanced-learn->imblearn) (2.2.0)\n"
     ]
    },
    {
     "name": "stderr",
     "output_type": "stream",
     "text": [
      "\n",
      "[notice] A new release of pip is available: 23.1.2 -> 23.3.1\n",
      "[notice] To update, run: python.exe -m pip install --upgrade pip\n"
     ]
    }
   ],
   "source": [
    "!pip install imblearn"
   ]
  },
  {
   "cell_type": "code",
   "execution_count": 48,
   "id": "453a404f",
   "metadata": {},
   "outputs": [],
   "source": [
    "from imblearn.over_sampling import RandomOverSampler\n",
    "os =  RandomOverSampler()"
   ]
  },
  {
   "cell_type": "code",
   "execution_count": 49,
   "id": "ef6c58d7",
   "metadata": {},
   "outputs": [],
   "source": [
    "X_train_res, y_train_res = os.fit_resample(x,target)"
   ]
  },
  {
   "cell_type": "code",
   "execution_count": 50,
   "id": "8cf810fb",
   "metadata": {},
   "outputs": [
    {
     "name": "stdout",
     "output_type": "stream",
     "text": [
      "(31245, 30) (31245,)\n"
     ]
    }
   ],
   "source": [
    "print(X_train_res.shape, y_train_res.shape)"
   ]
  },
  {
   "cell_type": "code",
   "execution_count": 51,
   "id": "0a8c03c2",
   "metadata": {},
   "outputs": [],
   "source": [
    "X_train_res['Accident_severity']=y_train_res"
   ]
  },
  {
   "cell_type": "code",
   "execution_count": 52,
   "id": "1ecdb7f0",
   "metadata": {},
   "outputs": [
    {
     "data": {
      "text/plain": [
       "(31245, 31)"
      ]
     },
     "execution_count": 52,
     "metadata": {},
     "output_type": "execute_result"
    }
   ],
   "source": [
    "X_train_res.shape"
   ]
  },
  {
   "cell_type": "code",
   "execution_count": 53,
   "id": "4725efb5",
   "metadata": {},
   "outputs": [],
   "source": [
    "df3=X_train_res"
   ]
  },
  {
   "cell_type": "code",
   "execution_count": 54,
   "id": "1d4c0b82",
   "metadata": {},
   "outputs": [
    {
     "data": {
      "text/html": [
       "<div>\n",
       "<style scoped>\n",
       "    .dataframe tbody tr th:only-of-type {\n",
       "        vertical-align: middle;\n",
       "    }\n",
       "\n",
       "    .dataframe tbody tr th {\n",
       "        vertical-align: top;\n",
       "    }\n",
       "\n",
       "    .dataframe thead th {\n",
       "        text-align: right;\n",
       "    }\n",
       "</style>\n",
       "<table border=\"1\" class=\"dataframe\">\n",
       "  <thead>\n",
       "    <tr style=\"text-align: right;\">\n",
       "      <th></th>\n",
       "      <th>Time</th>\n",
       "      <th>Day_of_week</th>\n",
       "      <th>Age_band_of_driver</th>\n",
       "      <th>Sex_of_driver</th>\n",
       "      <th>Educational_level</th>\n",
       "      <th>Vehicle_driver_relation</th>\n",
       "      <th>Driving_experience</th>\n",
       "      <th>Type_of_vehicle</th>\n",
       "      <th>Owner_of_vehicle</th>\n",
       "      <th>Defect_of_vehicle</th>\n",
       "      <th>...</th>\n",
       "      <th>Vehicle_movement</th>\n",
       "      <th>Casualty_class</th>\n",
       "      <th>Sex_of_casualty</th>\n",
       "      <th>Age_band_of_casualty</th>\n",
       "      <th>Casualty_severity</th>\n",
       "      <th>Work_of_casuality</th>\n",
       "      <th>Fitness_of_casuality</th>\n",
       "      <th>Pedestrian_movement</th>\n",
       "      <th>Cause_of_accident</th>\n",
       "      <th>Accident_severity</th>\n",
       "    </tr>\n",
       "  </thead>\n",
       "  <tbody>\n",
       "    <tr>\n",
       "      <th>0</th>\n",
       "      <td>17</td>\n",
       "      <td>1</td>\n",
       "      <td>4</td>\n",
       "      <td>2</td>\n",
       "      <td>3</td>\n",
       "      <td>4</td>\n",
       "      <td>4</td>\n",
       "      <td>17</td>\n",
       "      <td>4</td>\n",
       "      <td>2</td>\n",
       "      <td>...</td>\n",
       "      <td>13</td>\n",
       "      <td>2</td>\n",
       "      <td>1</td>\n",
       "      <td>5</td>\n",
       "      <td>2</td>\n",
       "      <td>0</td>\n",
       "      <td>4</td>\n",
       "      <td>8</td>\n",
       "      <td>14</td>\n",
       "      <td>2</td>\n",
       "    </tr>\n",
       "    <tr>\n",
       "      <th>1</th>\n",
       "      <td>17</td>\n",
       "      <td>1</td>\n",
       "      <td>3</td>\n",
       "      <td>2</td>\n",
       "      <td>7</td>\n",
       "      <td>4</td>\n",
       "      <td>5</td>\n",
       "      <td>8</td>\n",
       "      <td>4</td>\n",
       "      <td>2</td>\n",
       "      <td>...</td>\n",
       "      <td>13</td>\n",
       "      <td>2</td>\n",
       "      <td>1</td>\n",
       "      <td>5</td>\n",
       "      <td>2</td>\n",
       "      <td>0</td>\n",
       "      <td>4</td>\n",
       "      <td>8</td>\n",
       "      <td>11</td>\n",
       "      <td>2</td>\n",
       "    </tr>\n",
       "    <tr>\n",
       "      <th>2</th>\n",
       "      <td>17</td>\n",
       "      <td>1</td>\n",
       "      <td>4</td>\n",
       "      <td>2</td>\n",
       "      <td>7</td>\n",
       "      <td>4</td>\n",
       "      <td>4</td>\n",
       "      <td>16</td>\n",
       "      <td>4</td>\n",
       "      <td>2</td>\n",
       "      <td>...</td>\n",
       "      <td>13</td>\n",
       "      <td>3</td>\n",
       "      <td>2</td>\n",
       "      <td>3</td>\n",
       "      <td>3</td>\n",
       "      <td>0</td>\n",
       "      <td>4</td>\n",
       "      <td>8</td>\n",
       "      <td>17</td>\n",
       "      <td>1</td>\n",
       "    </tr>\n",
       "    <tr>\n",
       "      <th>3</th>\n",
       "      <td>1</td>\n",
       "      <td>7</td>\n",
       "      <td>4</td>\n",
       "      <td>2</td>\n",
       "      <td>7</td>\n",
       "      <td>4</td>\n",
       "      <td>7</td>\n",
       "      <td>8</td>\n",
       "      <td>3</td>\n",
       "      <td>2</td>\n",
       "      <td>...</td>\n",
       "      <td>13</td>\n",
       "      <td>1</td>\n",
       "      <td>0</td>\n",
       "      <td>4</td>\n",
       "      <td>3</td>\n",
       "      <td>0</td>\n",
       "      <td>4</td>\n",
       "      <td>8</td>\n",
       "      <td>18</td>\n",
       "      <td>2</td>\n",
       "    </tr>\n",
       "    <tr>\n",
       "      <th>4</th>\n",
       "      <td>1</td>\n",
       "      <td>7</td>\n",
       "      <td>4</td>\n",
       "      <td>2</td>\n",
       "      <td>7</td>\n",
       "      <td>4</td>\n",
       "      <td>6</td>\n",
       "      <td>14</td>\n",
       "      <td>4</td>\n",
       "      <td>2</td>\n",
       "      <td>...</td>\n",
       "      <td>13</td>\n",
       "      <td>2</td>\n",
       "      <td>1</td>\n",
       "      <td>5</td>\n",
       "      <td>2</td>\n",
       "      <td>0</td>\n",
       "      <td>4</td>\n",
       "      <td>8</td>\n",
       "      <td>11</td>\n",
       "      <td>2</td>\n",
       "    </tr>\n",
       "  </tbody>\n",
       "</table>\n",
       "<p>5 rows × 31 columns</p>\n",
       "</div>"
      ],
      "text/plain": [
       "   Time  Day_of_week  Age_band_of_driver  Sex_of_driver  Educational_level  \\\n",
       "0    17            1                   4              2                  3   \n",
       "1    17            1                   3              2                  7   \n",
       "2    17            1                   4              2                  7   \n",
       "3     1            7                   4              2                  7   \n",
       "4     1            7                   4              2                  7   \n",
       "\n",
       "   Vehicle_driver_relation  Driving_experience  Type_of_vehicle  \\\n",
       "0                        4                   4               17   \n",
       "1                        4                   5                8   \n",
       "2                        4                   4               16   \n",
       "3                        4                   7                8   \n",
       "4                        4                   6               14   \n",
       "\n",
       "   Owner_of_vehicle  Defect_of_vehicle  ...  Vehicle_movement  Casualty_class  \\\n",
       "0                 4                  2  ...                13               2   \n",
       "1                 4                  2  ...                13               2   \n",
       "2                 4                  2  ...                13               3   \n",
       "3                 3                  2  ...                13               1   \n",
       "4                 4                  2  ...                13               2   \n",
       "\n",
       "   Sex_of_casualty  Age_band_of_casualty  Casualty_severity  \\\n",
       "0                1                     5                  2   \n",
       "1                1                     5                  2   \n",
       "2                2                     3                  3   \n",
       "3                0                     4                  3   \n",
       "4                1                     5                  2   \n",
       "\n",
       "   Work_of_casuality  Fitness_of_casuality  Pedestrian_movement  \\\n",
       "0                  0                     4                    8   \n",
       "1                  0                     4                    8   \n",
       "2                  0                     4                    8   \n",
       "3                  0                     4                    8   \n",
       "4                  0                     4                    8   \n",
       "\n",
       "   Cause_of_accident  Accident_severity  \n",
       "0                 14                  2  \n",
       "1                 11                  2  \n",
       "2                 17                  1  \n",
       "3                 18                  2  \n",
       "4                 11                  2  \n",
       "\n",
       "[5 rows x 31 columns]"
      ]
     },
     "execution_count": 54,
     "metadata": {},
     "output_type": "execute_result"
    }
   ],
   "source": [
    "df3.head()"
   ]
  },
  {
   "cell_type": "code",
   "execution_count": 55,
   "id": "86d9292d",
   "metadata": {},
   "outputs": [
    {
     "data": {
      "text/plain": [
       "<AxesSubplot: title={'center': 'Count (target)'}>"
      ]
     },
     "execution_count": 55,
     "metadata": {},
     "output_type": "execute_result"
    },
    {
     "data": {
      "image/png": "[encoded data removed]",
      "text/plain": [
       "<Figure size 640x480 with 1 Axes>"
      ]
     },
     "metadata": {},
     "output_type": "display_data"
    }
   ],
   "source": [
    "df3['Accident_severity'].value_counts().plot(kind='bar', title='Count (target)')"
   ]
  },
  {
   "cell_type": "code",
   "execution_count": 56,
   "id": "161ab1d4",
   "metadata": {},
   "outputs": [
    {
     "data": {
      "text/plain": [
       "(31245, 31)"
      ]
     },
     "execution_count": 56,
     "metadata": {},
     "output_type": "execute_result"
    }
   ],
   "source": [
    "df3.shape"
   ]
  },
  {
   "cell_type": "code",
   "execution_count": 57,
   "id": "a4cc986b",
   "metadata": {},
   "outputs": [
    {
     "data": {
      "text/html": [
       "<div>\n",
       "<style scoped>\n",
       "    .dataframe tbody tr th:only-of-type {\n",
       "        vertical-align: middle;\n",
       "    }\n",
       "\n",
       "    .dataframe tbody tr th {\n",
       "        vertical-align: top;\n",
       "    }\n",
       "\n",
       "    .dataframe thead th {\n",
       "        text-align: right;\n",
       "    }\n",
       "</style>\n",
       "<table border=\"1\" class=\"dataframe\">\n",
       "  <thead>\n",
       "    <tr style=\"text-align: right;\">\n",
       "      <th></th>\n",
       "      <th>Time</th>\n",
       "      <th>Day_of_week</th>\n",
       "      <th>Age_band_of_driver</th>\n",
       "      <th>Sex_of_driver</th>\n",
       "      <th>Educational_level</th>\n",
       "      <th>Vehicle_driver_relation</th>\n",
       "      <th>Driving_experience</th>\n",
       "      <th>Type_of_vehicle</th>\n",
       "      <th>Owner_of_vehicle</th>\n",
       "      <th>Defect_of_vehicle</th>\n",
       "      <th>...</th>\n",
       "      <th>Vehicle_movement</th>\n",
       "      <th>Casualty_class</th>\n",
       "      <th>Sex_of_casualty</th>\n",
       "      <th>Age_band_of_casualty</th>\n",
       "      <th>Casualty_severity</th>\n",
       "      <th>Work_of_casuality</th>\n",
       "      <th>Fitness_of_casuality</th>\n",
       "      <th>Pedestrian_movement</th>\n",
       "      <th>Cause_of_accident</th>\n",
       "      <th>Accident_severity</th>\n",
       "    </tr>\n",
       "  </thead>\n",
       "  <tbody>\n",
       "    <tr>\n",
       "      <th>0</th>\n",
       "      <td>17</td>\n",
       "      <td>1</td>\n",
       "      <td>4</td>\n",
       "      <td>2</td>\n",
       "      <td>3</td>\n",
       "      <td>4</td>\n",
       "      <td>4</td>\n",
       "      <td>17</td>\n",
       "      <td>4</td>\n",
       "      <td>2</td>\n",
       "      <td>...</td>\n",
       "      <td>13</td>\n",
       "      <td>2</td>\n",
       "      <td>1</td>\n",
       "      <td>5</td>\n",
       "      <td>2</td>\n",
       "      <td>0</td>\n",
       "      <td>4</td>\n",
       "      <td>8</td>\n",
       "      <td>14</td>\n",
       "      <td>2</td>\n",
       "    </tr>\n",
       "    <tr>\n",
       "      <th>1</th>\n",
       "      <td>17</td>\n",
       "      <td>1</td>\n",
       "      <td>3</td>\n",
       "      <td>2</td>\n",
       "      <td>7</td>\n",
       "      <td>4</td>\n",
       "      <td>5</td>\n",
       "      <td>8</td>\n",
       "      <td>4</td>\n",
       "      <td>2</td>\n",
       "      <td>...</td>\n",
       "      <td>13</td>\n",
       "      <td>2</td>\n",
       "      <td>1</td>\n",
       "      <td>5</td>\n",
       "      <td>2</td>\n",
       "      <td>0</td>\n",
       "      <td>4</td>\n",
       "      <td>8</td>\n",
       "      <td>11</td>\n",
       "      <td>2</td>\n",
       "    </tr>\n",
       "    <tr>\n",
       "      <th>2</th>\n",
       "      <td>17</td>\n",
       "      <td>1</td>\n",
       "      <td>4</td>\n",
       "      <td>2</td>\n",
       "      <td>7</td>\n",
       "      <td>4</td>\n",
       "      <td>4</td>\n",
       "      <td>16</td>\n",
       "      <td>4</td>\n",
       "      <td>2</td>\n",
       "      <td>...</td>\n",
       "      <td>13</td>\n",
       "      <td>3</td>\n",
       "      <td>2</td>\n",
       "      <td>3</td>\n",
       "      <td>3</td>\n",
       "      <td>0</td>\n",
       "      <td>4</td>\n",
       "      <td>8</td>\n",
       "      <td>17</td>\n",
       "      <td>1</td>\n",
       "    </tr>\n",
       "    <tr>\n",
       "      <th>3</th>\n",
       "      <td>1</td>\n",
       "      <td>7</td>\n",
       "      <td>4</td>\n",
       "      <td>2</td>\n",
       "      <td>7</td>\n",
       "      <td>4</td>\n",
       "      <td>7</td>\n",
       "      <td>8</td>\n",
       "      <td>3</td>\n",
       "      <td>2</td>\n",
       "      <td>...</td>\n",
       "      <td>13</td>\n",
       "      <td>1</td>\n",
       "      <td>0</td>\n",
       "      <td>4</td>\n",
       "      <td>3</td>\n",
       "      <td>0</td>\n",
       "      <td>4</td>\n",
       "      <td>8</td>\n",
       "      <td>18</td>\n",
       "      <td>2</td>\n",
       "    </tr>\n",
       "    <tr>\n",
       "      <th>4</th>\n",
       "      <td>1</td>\n",
       "      <td>7</td>\n",
       "      <td>4</td>\n",
       "      <td>2</td>\n",
       "      <td>7</td>\n",
       "      <td>4</td>\n",
       "      <td>6</td>\n",
       "      <td>14</td>\n",
       "      <td>4</td>\n",
       "      <td>2</td>\n",
       "      <td>...</td>\n",
       "      <td>13</td>\n",
       "      <td>2</td>\n",
       "      <td>1</td>\n",
       "      <td>5</td>\n",
       "      <td>2</td>\n",
       "      <td>0</td>\n",
       "      <td>4</td>\n",
       "      <td>8</td>\n",
       "      <td>11</td>\n",
       "      <td>2</td>\n",
       "    </tr>\n",
       "  </tbody>\n",
       "</table>\n",
       "<p>5 rows × 31 columns</p>\n",
       "</div>"
      ],
      "text/plain": [
       "   Time  Day_of_week  Age_band_of_driver  Sex_of_driver  Educational_level  \\\n",
       "0    17            1                   4              2                  3   \n",
       "1    17            1                   3              2                  7   \n",
       "2    17            1                   4              2                  7   \n",
       "3     1            7                   4              2                  7   \n",
       "4     1            7                   4              2                  7   \n",
       "\n",
       "   Vehicle_driver_relation  Driving_experience  Type_of_vehicle  \\\n",
       "0                        4                   4               17   \n",
       "1                        4                   5                8   \n",
       "2                        4                   4               16   \n",
       "3                        4                   7                8   \n",
       "4                        4                   6               14   \n",
       "\n",
       "   Owner_of_vehicle  Defect_of_vehicle  ...  Vehicle_movement  Casualty_class  \\\n",
       "0                 4                  2  ...                13               2   \n",
       "1                 4                  2  ...                13               2   \n",
       "2                 4                  2  ...                13               3   \n",
       "3                 3                  2  ...                13               1   \n",
       "4                 4                  2  ...                13               2   \n",
       "\n",
       "   Sex_of_casualty  Age_band_of_casualty  Casualty_severity  \\\n",
       "0                1                     5                  2   \n",
       "1                1                     5                  2   \n",
       "2                2                     3                  3   \n",
       "3                0                     4                  3   \n",
       "4                1                     5                  2   \n",
       "\n",
       "   Work_of_casuality  Fitness_of_casuality  Pedestrian_movement  \\\n",
       "0                  0                     4                    8   \n",
       "1                  0                     4                    8   \n",
       "2                  0                     4                    8   \n",
       "3                  0                     4                    8   \n",
       "4                  0                     4                    8   \n",
       "\n",
       "   Cause_of_accident  Accident_severity  \n",
       "0                 14                  2  \n",
       "1                 11                  2  \n",
       "2                 17                  1  \n",
       "3                 18                  2  \n",
       "4                 11                  2  \n",
       "\n",
       "[5 rows x 31 columns]"
      ]
     },
     "execution_count": 57,
     "metadata": {},
     "output_type": "execute_result"
    }
   ],
   "source": [
    "df3.head()"
   ]
  },
  {
   "cell_type": "code",
   "execution_count": 58,
   "id": "28f745f2",
   "metadata": {},
   "outputs": [],
   "source": [
    "numerical=['Number_of_vehicles_involved', 'Number_of_casualties'] "
   ]
  },
  {
   "cell_type": "code",
   "execution_count": 59,
   "id": "1ec193d4",
   "metadata": {},
   "outputs": [],
   "source": [
    "from matplotlib import pyplot as plt"
   ]
  },
  {
   "cell_type": "code",
   "execution_count": 60,
   "id": "e9a8ff8d",
   "metadata": {},
   "outputs": [
    {
     "data": {
      "image/png": "[encoded data removed]",
      "text/plain": [
       "<Figure size 640x480 with 1 Axes>"
      ]
     },
     "metadata": {},
     "output_type": "display_data"
    },
    {
     "data": {
      "image/png": "[encoded data removed]",
      "text/plain": [
       "<Figure size 640x480 with 1 Axes>"
      ]
     },
     "metadata": {},
     "output_type": "display_data"
    }
   ],
   "source": [
    "for i in numerical:\n",
    "    plt.hist(df3[i])\n",
    "    plt.title(i)\n",
    "    plt.show()"
   ]
  },
  {
   "cell_type": "code",
   "execution_count": 61,
   "id": "14a77057",
   "metadata": {},
   "outputs": [],
   "source": [
    "import numpy as np\n",
    "df3['log_number_of_vehicles']=np.log(df3['Number_of_vehicles_involved'])"
   ]
  },
  {
   "cell_type": "code",
   "execution_count": null,
   "id": "2adba68f",
   "metadata": {},
   "outputs": [],
   "source": []
  },
  {
   "cell_type": "code",
   "execution_count": 62,
   "id": "59c04785",
   "metadata": {},
   "outputs": [
    {
     "data": {
      "text/plain": [
       "(array([ 7330.,     0.,     0., 19927.,     0.,  3331.,     0.,   553.,\n",
       "            0.,   104.]),\n",
       " array([0.        , 0.19459101, 0.38918203, 0.58377304, 0.77836406,\n",
       "        0.97295507, 1.16754609, 1.3621371 , 1.55672812, 1.75131913,\n",
       "        1.94591015]),\n",
       " <BarContainer object of 10 artists>)"
      ]
     },
     "execution_count": 62,
     "metadata": {},
     "output_type": "execute_result"
    },
    {
     "data": {
      "image/png": "[encoded data removed]",
      "text/plain": [
       "<Figure size 640x480 with 1 Axes>"
      ]
     },
     "metadata": {},
     "output_type": "display_data"
    }
   ],
   "source": [
    "plt.hist(df3['log_number_of_vehicles'])"
   ]
  },
  {
   "cell_type": "code",
   "execution_count": 63,
   "id": "cd2b1415",
   "metadata": {},
   "outputs": [
    {
     "data": {
      "text/html": [
       "<div>\n",
       "<style scoped>\n",
       "    .dataframe tbody tr th:only-of-type {\n",
       "        vertical-align: middle;\n",
       "    }\n",
       "\n",
       "    .dataframe tbody tr th {\n",
       "        vertical-align: top;\n",
       "    }\n",
       "\n",
       "    .dataframe thead th {\n",
       "        text-align: right;\n",
       "    }\n",
       "</style>\n",
       "<table border=\"1\" class=\"dataframe\">\n",
       "  <thead>\n",
       "    <tr style=\"text-align: right;\">\n",
       "      <th></th>\n",
       "      <th>Time</th>\n",
       "      <th>Day_of_week</th>\n",
       "      <th>Age_band_of_driver</th>\n",
       "      <th>Sex_of_driver</th>\n",
       "      <th>Educational_level</th>\n",
       "      <th>Vehicle_driver_relation</th>\n",
       "      <th>Driving_experience</th>\n",
       "      <th>Type_of_vehicle</th>\n",
       "      <th>Owner_of_vehicle</th>\n",
       "      <th>Defect_of_vehicle</th>\n",
       "      <th>...</th>\n",
       "      <th>Casualty_class</th>\n",
       "      <th>Sex_of_casualty</th>\n",
       "      <th>Age_band_of_casualty</th>\n",
       "      <th>Casualty_severity</th>\n",
       "      <th>Work_of_casuality</th>\n",
       "      <th>Fitness_of_casuality</th>\n",
       "      <th>Pedestrian_movement</th>\n",
       "      <th>Cause_of_accident</th>\n",
       "      <th>Accident_severity</th>\n",
       "      <th>log_number_of_vehicles</th>\n",
       "    </tr>\n",
       "  </thead>\n",
       "  <tbody>\n",
       "    <tr>\n",
       "      <th>0</th>\n",
       "      <td>17</td>\n",
       "      <td>1</td>\n",
       "      <td>4</td>\n",
       "      <td>2</td>\n",
       "      <td>3</td>\n",
       "      <td>4</td>\n",
       "      <td>4</td>\n",
       "      <td>17</td>\n",
       "      <td>4</td>\n",
       "      <td>2</td>\n",
       "      <td>...</td>\n",
       "      <td>2</td>\n",
       "      <td>1</td>\n",
       "      <td>5</td>\n",
       "      <td>2</td>\n",
       "      <td>0</td>\n",
       "      <td>4</td>\n",
       "      <td>8</td>\n",
       "      <td>14</td>\n",
       "      <td>2</td>\n",
       "      <td>0.693147</td>\n",
       "    </tr>\n",
       "    <tr>\n",
       "      <th>1</th>\n",
       "      <td>17</td>\n",
       "      <td>1</td>\n",
       "      <td>3</td>\n",
       "      <td>2</td>\n",
       "      <td>7</td>\n",
       "      <td>4</td>\n",
       "      <td>5</td>\n",
       "      <td>8</td>\n",
       "      <td>4</td>\n",
       "      <td>2</td>\n",
       "      <td>...</td>\n",
       "      <td>2</td>\n",
       "      <td>1</td>\n",
       "      <td>5</td>\n",
       "      <td>2</td>\n",
       "      <td>0</td>\n",
       "      <td>4</td>\n",
       "      <td>8</td>\n",
       "      <td>11</td>\n",
       "      <td>2</td>\n",
       "      <td>0.693147</td>\n",
       "    </tr>\n",
       "    <tr>\n",
       "      <th>2</th>\n",
       "      <td>17</td>\n",
       "      <td>1</td>\n",
       "      <td>4</td>\n",
       "      <td>2</td>\n",
       "      <td>7</td>\n",
       "      <td>4</td>\n",
       "      <td>4</td>\n",
       "      <td>16</td>\n",
       "      <td>4</td>\n",
       "      <td>2</td>\n",
       "      <td>...</td>\n",
       "      <td>3</td>\n",
       "      <td>2</td>\n",
       "      <td>3</td>\n",
       "      <td>3</td>\n",
       "      <td>0</td>\n",
       "      <td>4</td>\n",
       "      <td>8</td>\n",
       "      <td>17</td>\n",
       "      <td>1</td>\n",
       "      <td>0.693147</td>\n",
       "    </tr>\n",
       "    <tr>\n",
       "      <th>3</th>\n",
       "      <td>1</td>\n",
       "      <td>7</td>\n",
       "      <td>4</td>\n",
       "      <td>2</td>\n",
       "      <td>7</td>\n",
       "      <td>4</td>\n",
       "      <td>7</td>\n",
       "      <td>8</td>\n",
       "      <td>3</td>\n",
       "      <td>2</td>\n",
       "      <td>...</td>\n",
       "      <td>1</td>\n",
       "      <td>0</td>\n",
       "      <td>4</td>\n",
       "      <td>3</td>\n",
       "      <td>0</td>\n",
       "      <td>4</td>\n",
       "      <td>8</td>\n",
       "      <td>18</td>\n",
       "      <td>2</td>\n",
       "      <td>0.693147</td>\n",
       "    </tr>\n",
       "    <tr>\n",
       "      <th>4</th>\n",
       "      <td>1</td>\n",
       "      <td>7</td>\n",
       "      <td>4</td>\n",
       "      <td>2</td>\n",
       "      <td>7</td>\n",
       "      <td>4</td>\n",
       "      <td>6</td>\n",
       "      <td>14</td>\n",
       "      <td>4</td>\n",
       "      <td>2</td>\n",
       "      <td>...</td>\n",
       "      <td>2</td>\n",
       "      <td>1</td>\n",
       "      <td>5</td>\n",
       "      <td>2</td>\n",
       "      <td>0</td>\n",
       "      <td>4</td>\n",
       "      <td>8</td>\n",
       "      <td>11</td>\n",
       "      <td>2</td>\n",
       "      <td>0.693147</td>\n",
       "    </tr>\n",
       "  </tbody>\n",
       "</table>\n",
       "<p>5 rows × 32 columns</p>\n",
       "</div>"
      ],
      "text/plain": [
       "   Time  Day_of_week  Age_band_of_driver  Sex_of_driver  Educational_level  \\\n",
       "0    17            1                   4              2                  3   \n",
       "1    17            1                   3              2                  7   \n",
       "2    17            1                   4              2                  7   \n",
       "3     1            7                   4              2                  7   \n",
       "4     1            7                   4              2                  7   \n",
       "\n",
       "   Vehicle_driver_relation  Driving_experience  Type_of_vehicle  \\\n",
       "0                        4                   4               17   \n",
       "1                        4                   5                8   \n",
       "2                        4                   4               16   \n",
       "3                        4                   7                8   \n",
       "4                        4                   6               14   \n",
       "\n",
       "   Owner_of_vehicle  Defect_of_vehicle  ...  Casualty_class  Sex_of_casualty  \\\n",
       "0                 4                  2  ...               2                1   \n",
       "1                 4                  2  ...               2                1   \n",
       "2                 4                  2  ...               3                2   \n",
       "3                 3                  2  ...               1                0   \n",
       "4                 4                  2  ...               2                1   \n",
       "\n",
       "   Age_band_of_casualty  Casualty_severity  Work_of_casuality  \\\n",
       "0                     5                  2                  0   \n",
       "1                     5                  2                  0   \n",
       "2                     3                  3                  0   \n",
       "3                     4                  3                  0   \n",
       "4                     5                  2                  0   \n",
       "\n",
       "   Fitness_of_casuality  Pedestrian_movement  Cause_of_accident  \\\n",
       "0                     4                    8                 14   \n",
       "1                     4                    8                 11   \n",
       "2                     4                    8                 17   \n",
       "3                     4                    8                 18   \n",
       "4                     4                    8                 11   \n",
       "\n",
       "   Accident_severity  log_number_of_vehicles  \n",
       "0                  2                0.693147  \n",
       "1                  2                0.693147  \n",
       "2                  1                0.693147  \n",
       "3                  2                0.693147  \n",
       "4                  2                0.693147  \n",
       "\n",
       "[5 rows x 32 columns]"
      ]
     },
     "execution_count": 63,
     "metadata": {},
     "output_type": "execute_result"
    }
   ],
   "source": [
    "df3.head()"
   ]
  },
  {
   "cell_type": "code",
   "execution_count": 64,
   "id": "7f89efbe",
   "metadata": {},
   "outputs": [],
   "source": [
    "df4=df3.drop(['Accident_severity' ,'Number_of_vehicles_involved'],axis=1)"
   ]
  },
  {
   "cell_type": "code",
   "execution_count": 65,
   "id": "56199811",
   "metadata": {},
   "outputs": [
    {
     "data": {
      "text/html": [
       "<div>\n",
       "<style scoped>\n",
       "    .dataframe tbody tr th:only-of-type {\n",
       "        vertical-align: middle;\n",
       "    }\n",
       "\n",
       "    .dataframe tbody tr th {\n",
       "        vertical-align: top;\n",
       "    }\n",
       "\n",
       "    .dataframe thead th {\n",
       "        text-align: right;\n",
       "    }\n",
       "</style>\n",
       "<table border=\"1\" class=\"dataframe\">\n",
       "  <thead>\n",
       "    <tr style=\"text-align: right;\">\n",
       "      <th></th>\n",
       "      <th>Time</th>\n",
       "      <th>Day_of_week</th>\n",
       "      <th>Age_band_of_driver</th>\n",
       "      <th>Sex_of_driver</th>\n",
       "      <th>Educational_level</th>\n",
       "      <th>Vehicle_driver_relation</th>\n",
       "      <th>Driving_experience</th>\n",
       "      <th>Type_of_vehicle</th>\n",
       "      <th>Owner_of_vehicle</th>\n",
       "      <th>Defect_of_vehicle</th>\n",
       "      <th>...</th>\n",
       "      <th>Vehicle_movement</th>\n",
       "      <th>Casualty_class</th>\n",
       "      <th>Sex_of_casualty</th>\n",
       "      <th>Age_band_of_casualty</th>\n",
       "      <th>Casualty_severity</th>\n",
       "      <th>Work_of_casuality</th>\n",
       "      <th>Fitness_of_casuality</th>\n",
       "      <th>Pedestrian_movement</th>\n",
       "      <th>Cause_of_accident</th>\n",
       "      <th>log_number_of_vehicles</th>\n",
       "    </tr>\n",
       "  </thead>\n",
       "  <tbody>\n",
       "    <tr>\n",
       "      <th>0</th>\n",
       "      <td>17</td>\n",
       "      <td>1</td>\n",
       "      <td>4</td>\n",
       "      <td>2</td>\n",
       "      <td>3</td>\n",
       "      <td>4</td>\n",
       "      <td>4</td>\n",
       "      <td>17</td>\n",
       "      <td>4</td>\n",
       "      <td>2</td>\n",
       "      <td>...</td>\n",
       "      <td>13</td>\n",
       "      <td>2</td>\n",
       "      <td>1</td>\n",
       "      <td>5</td>\n",
       "      <td>2</td>\n",
       "      <td>0</td>\n",
       "      <td>4</td>\n",
       "      <td>8</td>\n",
       "      <td>14</td>\n",
       "      <td>0.693147</td>\n",
       "    </tr>\n",
       "    <tr>\n",
       "      <th>1</th>\n",
       "      <td>17</td>\n",
       "      <td>1</td>\n",
       "      <td>3</td>\n",
       "      <td>2</td>\n",
       "      <td>7</td>\n",
       "      <td>4</td>\n",
       "      <td>5</td>\n",
       "      <td>8</td>\n",
       "      <td>4</td>\n",
       "      <td>2</td>\n",
       "      <td>...</td>\n",
       "      <td>13</td>\n",
       "      <td>2</td>\n",
       "      <td>1</td>\n",
       "      <td>5</td>\n",
       "      <td>2</td>\n",
       "      <td>0</td>\n",
       "      <td>4</td>\n",
       "      <td>8</td>\n",
       "      <td>11</td>\n",
       "      <td>0.693147</td>\n",
       "    </tr>\n",
       "    <tr>\n",
       "      <th>2</th>\n",
       "      <td>17</td>\n",
       "      <td>1</td>\n",
       "      <td>4</td>\n",
       "      <td>2</td>\n",
       "      <td>7</td>\n",
       "      <td>4</td>\n",
       "      <td>4</td>\n",
       "      <td>16</td>\n",
       "      <td>4</td>\n",
       "      <td>2</td>\n",
       "      <td>...</td>\n",
       "      <td>13</td>\n",
       "      <td>3</td>\n",
       "      <td>2</td>\n",
       "      <td>3</td>\n",
       "      <td>3</td>\n",
       "      <td>0</td>\n",
       "      <td>4</td>\n",
       "      <td>8</td>\n",
       "      <td>17</td>\n",
       "      <td>0.693147</td>\n",
       "    </tr>\n",
       "    <tr>\n",
       "      <th>3</th>\n",
       "      <td>1</td>\n",
       "      <td>7</td>\n",
       "      <td>4</td>\n",
       "      <td>2</td>\n",
       "      <td>7</td>\n",
       "      <td>4</td>\n",
       "      <td>7</td>\n",
       "      <td>8</td>\n",
       "      <td>3</td>\n",
       "      <td>2</td>\n",
       "      <td>...</td>\n",
       "      <td>13</td>\n",
       "      <td>1</td>\n",
       "      <td>0</td>\n",
       "      <td>4</td>\n",
       "      <td>3</td>\n",
       "      <td>0</td>\n",
       "      <td>4</td>\n",
       "      <td>8</td>\n",
       "      <td>18</td>\n",
       "      <td>0.693147</td>\n",
       "    </tr>\n",
       "    <tr>\n",
       "      <th>4</th>\n",
       "      <td>1</td>\n",
       "      <td>7</td>\n",
       "      <td>4</td>\n",
       "      <td>2</td>\n",
       "      <td>7</td>\n",
       "      <td>4</td>\n",
       "      <td>6</td>\n",
       "      <td>14</td>\n",
       "      <td>4</td>\n",
       "      <td>2</td>\n",
       "      <td>...</td>\n",
       "      <td>13</td>\n",
       "      <td>2</td>\n",
       "      <td>1</td>\n",
       "      <td>5</td>\n",
       "      <td>2</td>\n",
       "      <td>0</td>\n",
       "      <td>4</td>\n",
       "      <td>8</td>\n",
       "      <td>11</td>\n",
       "      <td>0.693147</td>\n",
       "    </tr>\n",
       "  </tbody>\n",
       "</table>\n",
       "<p>5 rows × 30 columns</p>\n",
       "</div>"
      ],
      "text/plain": [
       "   Time  Day_of_week  Age_band_of_driver  Sex_of_driver  Educational_level  \\\n",
       "0    17            1                   4              2                  3   \n",
       "1    17            1                   3              2                  7   \n",
       "2    17            1                   4              2                  7   \n",
       "3     1            7                   4              2                  7   \n",
       "4     1            7                   4              2                  7   \n",
       "\n",
       "   Vehicle_driver_relation  Driving_experience  Type_of_vehicle  \\\n",
       "0                        4                   4               17   \n",
       "1                        4                   5                8   \n",
       "2                        4                   4               16   \n",
       "3                        4                   7                8   \n",
       "4                        4                   6               14   \n",
       "\n",
       "   Owner_of_vehicle  Defect_of_vehicle  ...  Vehicle_movement  Casualty_class  \\\n",
       "0                 4                  2  ...                13               2   \n",
       "1                 4                  2  ...                13               2   \n",
       "2                 4                  2  ...                13               3   \n",
       "3                 3                  2  ...                13               1   \n",
       "4                 4                  2  ...                13               2   \n",
       "\n",
       "   Sex_of_casualty  Age_band_of_casualty  Casualty_severity  \\\n",
       "0                1                     5                  2   \n",
       "1                1                     5                  2   \n",
       "2                2                     3                  3   \n",
       "3                0                     4                  3   \n",
       "4                1                     5                  2   \n",
       "\n",
       "   Work_of_casuality  Fitness_of_casuality  Pedestrian_movement  \\\n",
       "0                  0                     4                    8   \n",
       "1                  0                     4                    8   \n",
       "2                  0                     4                    8   \n",
       "3                  0                     4                    8   \n",
       "4                  0                     4                    8   \n",
       "\n",
       "   Cause_of_accident  log_number_of_vehicles  \n",
       "0                 14                0.693147  \n",
       "1                 11                0.693147  \n",
       "2                 17                0.693147  \n",
       "3                 18                0.693147  \n",
       "4                 11                0.693147  \n",
       "\n",
       "[5 rows x 30 columns]"
      ]
     },
     "execution_count": 65,
     "metadata": {},
     "output_type": "execute_result"
    }
   ],
   "source": [
    "df4.head()"
   ]
  },
  {
   "cell_type": "code",
   "execution_count": 66,
   "id": "045f60d5",
   "metadata": {},
   "outputs": [],
   "source": [
    "target=df3['Accident_severity']"
   ]
  },
  {
   "cell_type": "code",
   "execution_count": 67,
   "id": "c4855190",
   "metadata": {},
   "outputs": [],
   "source": [
    "from sklearn.model_selection import train_test_split\n",
    "xtrain,xtest,ytrain,ytest=train_test_split(df4,target,test_size=0.33)"
   ]
  },
  {
   "cell_type": "markdown",
   "id": "f7b6235f",
   "metadata": {},
   "source": [
    "# feature selection"
   ]
  },
  {
   "cell_type": "code",
   "execution_count": 68,
   "id": "e675b07e",
   "metadata": {},
   "outputs": [
    {
     "name": "stderr",
     "output_type": "stream",
     "text": [
      "E:\\anacondafiles\\lib\\site-packages\\sklearn\\feature_selection\\_univariate_selection.py:112: UserWarning: Features [25] are constant.\n",
      "  warnings.warn(\"Features %s are constant.\" % constant_features_idx, UserWarning)\n",
      "E:\\anacondafiles\\lib\\site-packages\\sklearn\\feature_selection\\_univariate_selection.py:113: RuntimeWarning: invalid value encountered in true_divide\n",
      "  f = msb / msw\n"
     ]
    }
   ],
   "source": [
    "from sklearn.feature_selection import SelectKBest\n",
    "fs = SelectKBest(k='all')\n",
    "fs.fit(xtrain,ytrain)\n",
    "xtrain_fs=fs.transform(xtrain)\n",
    "xtest_fs=fs.transform(xtest)"
   ]
  },
  {
   "cell_type": "code",
   "execution_count": 69,
   "id": "718e1be1",
   "metadata": {},
   "outputs": [
    {
     "data": {
      "text/plain": [
       "(20934, 30)"
      ]
     },
     "execution_count": 69,
     "metadata": {},
     "output_type": "execute_result"
    }
   ],
   "source": [
    "xtrain.shape"
   ]
  },
  {
   "cell_type": "code",
   "execution_count": 70,
   "id": "12dca299",
   "metadata": {},
   "outputs": [
    {
     "data": {
      "text/plain": [
       "(20934,)"
      ]
     },
     "execution_count": 70,
     "metadata": {},
     "output_type": "execute_result"
    }
   ],
   "source": [
    "ytrain.shape"
   ]
  },
  {
   "cell_type": "code",
   "execution_count": 71,
   "id": "2902ab55",
   "metadata": {},
   "outputs": [
    {
     "name": "stdout",
     "output_type": "stream",
     "text": [
      "feature 0 67.37290986371531\n",
      "feature 1 321.7274773142671\n",
      "feature 2 71.76665413506926\n",
      "feature 3 42.1599004774444\n",
      "feature 4 0.9553410502565697\n",
      "feature 5 22.92440055230783\n",
      "feature 6 34.40597731125789\n",
      "feature 7 6.936190544936633\n",
      "feature 8 3.7814872836829663\n",
      "feature 9 29.934996881846274\n",
      "feature 10 22.449690301907015\n",
      "feature 11 1.6385488106809973\n",
      "feature 12 1.652044540535734\n",
      "feature 13 21.389702801330255\n",
      "feature 14 30.596749495097953\n",
      "feature 15 2.9093199039409425\n",
      "feature 16 223.3066145472437\n",
      "feature 17 146.99362437988296\n",
      "feature 18 2.8284259525813815\n",
      "feature 19 1161.8737934010624\n",
      "feature 20 52.5558516232268\n",
      "feature 21 15.492764162183251\n",
      "feature 22 67.20066770307008\n",
      "feature 23 16.35013131484779\n",
      "feature 24 23.355584054848315\n",
      "feature 25 nan\n",
      "feature 26 1.0664125345645525\n",
      "feature 27 0.5089706113840462\n",
      "feature 28 27.671205935443368\n",
      "feature 29 305.81334582109605\n"
     ]
    }
   ],
   "source": [
    "\n",
    "l=[]\n",
    "for i in range(len(fs.scores_)):\n",
    "    print(\"feature {}\".format(i),fs.scores_[i])\n",
    "    if fs.scores_[i] >30:\n",
    "     \n",
    "        l.append(df4.columns[i])"
   ]
  },
  {
   "cell_type": "code",
   "execution_count": 72,
   "id": "76dc96f0",
   "metadata": {},
   "outputs": [
    {
     "data": {
      "text/plain": [
       "'Educational_level'"
      ]
     },
     "execution_count": 72,
     "metadata": {},
     "output_type": "execute_result"
    }
   ],
   "source": [
    "df4.columns[4]"
   ]
  },
  {
   "cell_type": "code",
   "execution_count": 73,
   "id": "e4ce7e96",
   "metadata": {},
   "outputs": [
    {
     "data": {
      "text/plain": [
       "'Time'"
      ]
     },
     "execution_count": 73,
     "metadata": {},
     "output_type": "execute_result"
    }
   ],
   "source": [
    " df4.columns[0]"
   ]
  },
  {
   "cell_type": "code",
   "execution_count": 74,
   "id": "ad3f3f7e",
   "metadata": {},
   "outputs": [],
   "source": [
    "l=['Age_band_of_driver','Sex_of_driver',\n",
    "  'Weather_conditions',\"Time\",'Road_surface_type']"
   ]
  },
  {
   "cell_type": "code",
   "execution_count": 75,
   "id": "b4130657",
   "metadata": {},
   "outputs": [],
   "source": [
    "df5=df4[l]"
   ]
  },
  {
   "cell_type": "code",
   "execution_count": 76,
   "id": "13947a4a",
   "metadata": {},
   "outputs": [],
   "source": [
    "from sklearn.model_selection import train_test_split\n",
    "xtrain,xtest,ytrain,ytest=train_test_split(df5,target,test_size=0.33)"
   ]
  },
  {
   "cell_type": "markdown",
   "id": "04ee9671",
   "metadata": {},
   "source": [
    "# modeling"
   ]
  },
  {
   "cell_type": "markdown",
   "id": "21d137b9",
   "metadata": {},
   "source": [
    "#### random forest "
   ]
  },
  {
   "cell_type": "code",
   "execution_count": 77,
   "id": "cb32f929",
   "metadata": {},
   "outputs": [
    {
     "data": {
      "text/plain": [
       "RandomForestClassifier()"
      ]
     },
     "execution_count": 77,
     "metadata": {},
     "output_type": "execute_result"
    }
   ],
   "source": [
    "from sklearn.ensemble import RandomForestClassifier\n",
    "model=RandomForestClassifier()\n",
    "model.fit(xtrain,ytrain)"
   ]
  },
  {
   "cell_type": "code",
   "execution_count": 78,
   "id": "7ce71826",
   "metadata": {},
   "outputs": [
    {
     "data": {
      "text/html": [
       "<div>\n",
       "<style scoped>\n",
       "    .dataframe tbody tr th:only-of-type {\n",
       "        vertical-align: middle;\n",
       "    }\n",
       "\n",
       "    .dataframe tbody tr th {\n",
       "        vertical-align: top;\n",
       "    }\n",
       "\n",
       "    .dataframe thead th {\n",
       "        text-align: right;\n",
       "    }\n",
       "</style>\n",
       "<table border=\"1\" class=\"dataframe\">\n",
       "  <thead>\n",
       "    <tr style=\"text-align: right;\">\n",
       "      <th></th>\n",
       "      <th>Age_band_of_driver</th>\n",
       "      <th>Sex_of_driver</th>\n",
       "      <th>Weather_conditions</th>\n",
       "      <th>Time</th>\n",
       "      <th>Road_surface_type</th>\n",
       "    </tr>\n",
       "  </thead>\n",
       "  <tbody>\n",
       "    <tr>\n",
       "      <th>31018</th>\n",
       "      <td>4</td>\n",
       "      <td>2</td>\n",
       "      <td>8</td>\n",
       "      <td>7</td>\n",
       "      <td>5</td>\n",
       "    </tr>\n",
       "    <tr>\n",
       "      <th>17066</th>\n",
       "      <td>3</td>\n",
       "      <td>2</td>\n",
       "      <td>8</td>\n",
       "      <td>15</td>\n",
       "      <td>5</td>\n",
       "    </tr>\n",
       "    <tr>\n",
       "      <th>25268</th>\n",
       "      <td>2</td>\n",
       "      <td>2</td>\n",
       "      <td>8</td>\n",
       "      <td>17</td>\n",
       "      <td>3</td>\n",
       "    </tr>\n",
       "    <tr>\n",
       "      <th>7443</th>\n",
       "      <td>3</td>\n",
       "      <td>2</td>\n",
       "      <td>8</td>\n",
       "      <td>16</td>\n",
       "      <td>5</td>\n",
       "    </tr>\n",
       "    <tr>\n",
       "      <th>22825</th>\n",
       "      <td>4</td>\n",
       "      <td>2</td>\n",
       "      <td>8</td>\n",
       "      <td>15</td>\n",
       "      <td>5</td>\n",
       "    </tr>\n",
       "    <tr>\n",
       "      <th>...</th>\n",
       "      <td>...</td>\n",
       "      <td>...</td>\n",
       "      <td>...</td>\n",
       "      <td>...</td>\n",
       "      <td>...</td>\n",
       "    </tr>\n",
       "    <tr>\n",
       "      <th>6555</th>\n",
       "      <td>2</td>\n",
       "      <td>2</td>\n",
       "      <td>8</td>\n",
       "      <td>18</td>\n",
       "      <td>5</td>\n",
       "    </tr>\n",
       "    <tr>\n",
       "      <th>23337</th>\n",
       "      <td>0</td>\n",
       "      <td>2</td>\n",
       "      <td>7</td>\n",
       "      <td>22</td>\n",
       "      <td>5</td>\n",
       "    </tr>\n",
       "    <tr>\n",
       "      <th>21747</th>\n",
       "      <td>3</td>\n",
       "      <td>2</td>\n",
       "      <td>8</td>\n",
       "      <td>11</td>\n",
       "      <td>4</td>\n",
       "    </tr>\n",
       "    <tr>\n",
       "      <th>20064</th>\n",
       "      <td>2</td>\n",
       "      <td>2</td>\n",
       "      <td>8</td>\n",
       "      <td>12</td>\n",
       "      <td>5</td>\n",
       "    </tr>\n",
       "    <tr>\n",
       "      <th>12898</th>\n",
       "      <td>3</td>\n",
       "      <td>0</td>\n",
       "      <td>7</td>\n",
       "      <td>22</td>\n",
       "      <td>5</td>\n",
       "    </tr>\n",
       "  </tbody>\n",
       "</table>\n",
       "<p>20934 rows × 5 columns</p>\n",
       "</div>"
      ],
      "text/plain": [
       "       Age_band_of_driver  Sex_of_driver  Weather_conditions  Time  \\\n",
       "31018                   4              2                   8     7   \n",
       "17066                   3              2                   8    15   \n",
       "25268                   2              2                   8    17   \n",
       "7443                    3              2                   8    16   \n",
       "22825                   4              2                   8    15   \n",
       "...                   ...            ...                 ...   ...   \n",
       "6555                    2              2                   8    18   \n",
       "23337                   0              2                   7    22   \n",
       "21747                   3              2                   8    11   \n",
       "20064                   2              2                   8    12   \n",
       "12898                   3              0                   7    22   \n",
       "\n",
       "       Road_surface_type  \n",
       "31018                  5  \n",
       "17066                  5  \n",
       "25268                  3  \n",
       "7443                   5  \n",
       "22825                  5  \n",
       "...                  ...  \n",
       "6555                   5  \n",
       "23337                  5  \n",
       "21747                  4  \n",
       "20064                  5  \n",
       "12898                  5  \n",
       "\n",
       "[20934 rows x 5 columns]"
      ]
     },
     "execution_count": 78,
     "metadata": {},
     "output_type": "execute_result"
    }
   ],
   "source": [
    "xtrain"
   ]
  },
  {
   "cell_type": "code",
   "execution_count": 79,
   "id": "e0cba261",
   "metadata": {},
   "outputs": [
    {
     "data": {
      "text/plain": [
       "0.6143923964697895"
      ]
     },
     "execution_count": 79,
     "metadata": {},
     "output_type": "execute_result"
    }
   ],
   "source": [
    "model.score(xtest,ytest)"
   ]
  },
  {
   "cell_type": "code",
   "execution_count": null,
   "id": "032b481d",
   "metadata": {},
   "outputs": [],
   "source": []
  },
  {
   "cell_type": "markdown",
   "id": "b13ead2f",
   "metadata": {},
   "source": [
    "# hyper parameter tuning"
   ]
  },
  {
   "cell_type": "markdown",
   "id": "c5d271d6",
   "metadata": {},
   "source": [
    "#### kfold cross validataion"
   ]
  },
  {
   "cell_type": "code",
   "execution_count": 80,
   "id": "42844403",
   "metadata": {},
   "outputs": [
    {
     "data": {
      "text/plain": [
       "array([0.61145783, 0.60409666, 0.62409986, 0.59865578, 0.6168987 ])"
      ]
     },
     "execution_count": 80,
     "metadata": {},
     "output_type": "execute_result"
    }
   ],
   "source": [
    "from sklearn.model_selection import cross_val_score\n",
    "cross_val_score(RandomForestClassifier(),df5,target,cv=5)\n",
    "\n"
   ]
  },
  {
   "cell_type": "code",
   "execution_count": 81,
   "id": "45adb484",
   "metadata": {},
   "outputs": [
    {
     "data": {
      "text/plain": [
       "array([0.59846375, 0.60758521, 0.60470475])"
      ]
     },
     "metadata": {},
     "output_type": "display_data"
    },
    {
     "data": {
      "text/plain": [
       "array([0.5987518 , 0.60614498, 0.60470475])"
      ]
     },
     "metadata": {},
     "output_type": "display_data"
    },
    {
     "data": {
      "text/plain": [
       "array([0.59990398, 0.60710514, 0.60633701])"
      ]
     },
     "metadata": {},
     "output_type": "display_data"
    }
   ],
   "source": [
    "for i in [\"auto\", \"sqrt\", \"log2\"]:\n",
    "    display(cross_val_score(RandomForestClassifier(max_features=i),df5,target,cv=3))"
   ]
  },
  {
   "cell_type": "code",
   "execution_count": 82,
   "id": "c5961cff",
   "metadata": {},
   "outputs": [],
   "source": [
    "from sklearn.model_selection import GridSearchCV\n",
    "grd=GridSearchCV(RandomForestClassifier(),{'max_features': [\"auto\", \"sqrt\", \"log2\"]},cv=5,return_train_score=False)"
   ]
  },
  {
   "cell_type": "code",
   "execution_count": 83,
   "id": "9304d098",
   "metadata": {},
   "outputs": [
    {
     "data": {
      "text/plain": [
       "GridSearchCV(cv=5, estimator=RandomForestClassifier(),\n",
       "             param_grid={'max_features': ['auto', 'sqrt', 'log2']})"
      ]
     },
     "execution_count": 83,
     "metadata": {},
     "output_type": "execute_result"
    }
   ],
   "source": [
    "grd.fit(df5,target)"
   ]
  },
  {
   "cell_type": "code",
   "execution_count": 84,
   "id": "a34750a0",
   "metadata": {
    "scrolled": true
   },
   "outputs": [
    {
     "data": {
      "text/html": [
       "<div>\n",
       "<style scoped>\n",
       "    .dataframe tbody tr th:only-of-type {\n",
       "        vertical-align: middle;\n",
       "    }\n",
       "\n",
       "    .dataframe tbody tr th {\n",
       "        vertical-align: top;\n",
       "    }\n",
       "\n",
       "    .dataframe thead th {\n",
       "        text-align: right;\n",
       "    }\n",
       "</style>\n",
       "<table border=\"1\" class=\"dataframe\">\n",
       "  <thead>\n",
       "    <tr style=\"text-align: right;\">\n",
       "      <th></th>\n",
       "      <th>mean_fit_time</th>\n",
       "      <th>std_fit_time</th>\n",
       "      <th>mean_score_time</th>\n",
       "      <th>std_score_time</th>\n",
       "      <th>param_max_features</th>\n",
       "      <th>params</th>\n",
       "      <th>split0_test_score</th>\n",
       "      <th>split1_test_score</th>\n",
       "      <th>split2_test_score</th>\n",
       "      <th>split3_test_score</th>\n",
       "      <th>split4_test_score</th>\n",
       "      <th>mean_test_score</th>\n",
       "      <th>std_test_score</th>\n",
       "      <th>rank_test_score</th>\n",
       "    </tr>\n",
       "  </thead>\n",
       "  <tbody>\n",
       "    <tr>\n",
       "      <th>0</th>\n",
       "      <td>1.009395</td>\n",
       "      <td>0.199178</td>\n",
       "      <td>0.102236</td>\n",
       "      <td>0.011276</td>\n",
       "      <td>auto</td>\n",
       "      <td>{'max_features': 'auto'}</td>\n",
       "      <td>0.611618</td>\n",
       "      <td>0.604097</td>\n",
       "      <td>0.62346</td>\n",
       "      <td>0.598016</td>\n",
       "      <td>0.616899</td>\n",
       "      <td>0.610818</td>\n",
       "      <td>0.009017</td>\n",
       "      <td>3</td>\n",
       "    </tr>\n",
       "    <tr>\n",
       "      <th>1</th>\n",
       "      <td>0.853813</td>\n",
       "      <td>0.024721</td>\n",
       "      <td>0.088145</td>\n",
       "      <td>0.006730</td>\n",
       "      <td>sqrt</td>\n",
       "      <td>{'max_features': 'sqrt'}</td>\n",
       "      <td>0.610658</td>\n",
       "      <td>0.605697</td>\n",
       "      <td>0.62586</td>\n",
       "      <td>0.597216</td>\n",
       "      <td>0.616419</td>\n",
       "      <td>0.611170</td>\n",
       "      <td>0.009678</td>\n",
       "      <td>1</td>\n",
       "    </tr>\n",
       "    <tr>\n",
       "      <th>2</th>\n",
       "      <td>0.972731</td>\n",
       "      <td>0.101601</td>\n",
       "      <td>0.113093</td>\n",
       "      <td>0.016161</td>\n",
       "      <td>log2</td>\n",
       "      <td>{'max_features': 'log2'}</td>\n",
       "      <td>0.609698</td>\n",
       "      <td>0.605537</td>\n",
       "      <td>0.62362</td>\n",
       "      <td>0.599136</td>\n",
       "      <td>0.616739</td>\n",
       "      <td>0.610946</td>\n",
       "      <td>0.008538</td>\n",
       "      <td>2</td>\n",
       "    </tr>\n",
       "  </tbody>\n",
       "</table>\n",
       "</div>"
      ],
      "text/plain": [
       "   mean_fit_time  std_fit_time  mean_score_time  std_score_time  \\\n",
       "0       1.009395      0.199178         0.102236        0.011276   \n",
       "1       0.853813      0.024721         0.088145        0.006730   \n",
       "2       0.972731      0.101601         0.113093        0.016161   \n",
       "\n",
       "  param_max_features                    params  split0_test_score  \\\n",
       "0               auto  {'max_features': 'auto'}           0.611618   \n",
       "1               sqrt  {'max_features': 'sqrt'}           0.610658   \n",
       "2               log2  {'max_features': 'log2'}           0.609698   \n",
       "\n",
       "   split1_test_score  split2_test_score  split3_test_score  split4_test_score  \\\n",
       "0           0.604097            0.62346           0.598016           0.616899   \n",
       "1           0.605697            0.62586           0.597216           0.616419   \n",
       "2           0.605537            0.62362           0.599136           0.616739   \n",
       "\n",
       "   mean_test_score  std_test_score  rank_test_score  \n",
       "0         0.610818        0.009017                3  \n",
       "1         0.611170        0.009678                1  \n",
       "2         0.610946        0.008538                2  "
      ]
     },
     "execution_count": 84,
     "metadata": {},
     "output_type": "execute_result"
    }
   ],
   "source": [
    "pd.DataFrame(grd.cv_results_)"
   ]
  },
  {
   "cell_type": "code",
   "execution_count": 85,
   "id": "44d7300c",
   "metadata": {},
   "outputs": [
    {
     "data": {
      "text/plain": [
       "RandomForestClassifier(max_features='log2')"
      ]
     },
     "execution_count": 85,
     "metadata": {},
     "output_type": "execute_result"
    }
   ],
   "source": [
    "model=RandomForestClassifier(max_features='log2')\n",
    "model.fit(xtrain,ytrain)"
   ]
  },
  {
   "cell_type": "code",
   "execution_count": null,
   "id": "b3143532",
   "metadata": {},
   "outputs": [],
   "source": []
  },
  {
   "cell_type": "code",
   "execution_count": null,
   "id": "0c67328b",
   "metadata": {},
   "outputs": [],
   "source": []
  },
  {
   "cell_type": "code",
   "execution_count": null,
   "id": "841b040d",
   "metadata": {},
   "outputs": [],
   "source": []
  },
  {
   "cell_type": "code",
   "execution_count": null,
   "id": "41cf16c4",
   "metadata": {},
   "outputs": [],
   "source": []
  },
  {
   "cell_type": "code",
   "execution_count": 86,
   "id": "8be5c9d7",
   "metadata": {},
   "outputs": [],
   "source": [
    "from sklearn.metrics import confusion_matrix\n",
    "matrix=confusion_matrix(model.predict(xtest),ytest)"
   ]
  },
  {
   "cell_type": "code",
   "execution_count": 87,
   "id": "014f7d56",
   "metadata": {},
   "outputs": [
    {
     "data": {
      "text/plain": [
       "array([[2943,  834,  895],\n",
       "       [ 282, 1850,  977],\n",
       "       [ 244,  744, 1542]], dtype=int64)"
      ]
     },
     "execution_count": 87,
     "metadata": {},
     "output_type": "execute_result"
    }
   ],
   "source": [
    "matrix"
   ]
  },
  {
   "cell_type": "code",
   "execution_count": 88,
   "id": "a5a45e5a",
   "metadata": {},
   "outputs": [],
   "source": [
    "li=df['Accident_severity'].value_counts().index"
   ]
  },
  {
   "cell_type": "code",
   "execution_count": 89,
   "id": "1d25ff00",
   "metadata": {
    "scrolled": true
   },
   "outputs": [
    {
     "data": {
      "text/plain": [
       "<AxesSubplot: >"
      ]
     },
     "execution_count": 89,
     "metadata": {},
     "output_type": "execute_result"
    },
    {
     "data": {
      "image/png": "[encoded data removed]",
      "text/plain": [
       "<Figure size 640x480 with 2 Axes>"
      ]
     },
     "metadata": {},
     "output_type": "display_data"
    }
   ],
   "source": [
    "import seaborn as sns\n",
    "sns.heatmap(matrix,annot=True,xticklabels=li,yticklabels=li)"
   ]
  },
  {
   "cell_type": "markdown",
   "id": "6935f350",
   "metadata": {},
   "source": [
    "# f1-score"
   ]
  },
  {
   "cell_type": "code",
   "execution_count": 90,
   "id": "9d3c4a3c",
   "metadata": {
    "scrolled": true
   },
   "outputs": [
    {
     "data": {
      "text/plain": [
       "array([0.723007  , 0.56600887, 0.51884253])"
      ]
     },
     "execution_count": 90,
     "metadata": {},
     "output_type": "execute_result"
    }
   ],
   "source": [
    "from sklearn.metrics import f1_score\n",
    "score=f1_score(model.predict(xtest),ytest,average=None)\n",
    "score"
   ]
  },
  {
   "cell_type": "code",
   "execution_count": 91,
   "id": "bd8b67b8",
   "metadata": {},
   "outputs": [
    {
     "data": {
      "text/plain": [
       "Index(['Age_band_of_driver', 'Sex_of_driver', 'Weather_conditions', 'Time',\n",
       "       'Road_surface_type'],\n",
       "      dtype='object')"
      ]
     },
     "execution_count": 91,
     "metadata": {},
     "output_type": "execute_result"
    }
   ],
   "source": [
    "xtest.columns"
   ]
  },
  {
   "cell_type": "code",
   "execution_count": 92,
   "id": "9da53766",
   "metadata": {},
   "outputs": [],
   "source": [
    "import joblib"
   ]
  },
  {
   "cell_type": "code",
   "execution_count": 93,
   "id": "7d339c60",
   "metadata": {},
   "outputs": [
    {
     "data": {
      "text/plain": [
       "['model.joblib']"
      ]
     },
     "execution_count": 93,
     "metadata": {},
     "output_type": "execute_result"
    }
   ],
   "source": [
    "joblib.dump(model,'model.joblib')"
   ]
  },
  {
   "cell_type": "code",
   "execution_count": null,
   "id": "55468e63",
   "metadata": {},
   "outputs": [],
   "source": []
  },
  {
   "cell_type": "code",
   "execution_count": null,
   "id": "c32c1929",
   "metadata": {},
   "outputs": [],
   "source": []
  },
  {
   "cell_type": "code",
   "execution_count": null,
   "id": "1550d298",
   "metadata": {},
   "outputs": [],
   "source": []
  },
  {
   "cell_type": "code",
   "execution_count": null,
   "id": "4b1d37f3",
   "metadata": {},
   "outputs": [],
   "source": []
  },
  {
   "cell_type": "code",
   "execution_count": 94,
   "id": "cd6d7250",
   "metadata": {},
   "outputs": [],
   "source": [
    "l=[1,2,3,3,4,5]\n",
    "m=[1,2,3,4,4,5]"
   ]
  },
  {
   "cell_type": "code",
   "execution_count": 95,
   "id": "30556dba",
   "metadata": {},
   "outputs": [
    {
     "data": {
      "text/plain": [
       "{1: 1, 2: 2, 3: 4, 4: 4, 5: 5}"
      ]
     },
     "execution_count": 95,
     "metadata": {},
     "output_type": "execute_result"
    }
   ],
   "source": [
    "dict(zip(l,m))"
   ]
  },
  {
   "cell_type": "code",
   "execution_count": 96,
   "id": "3c6e67af",
   "metadata": {},
   "outputs": [],
   "source": [
    "import numpy as np\n"
   ]
  },
  {
   "cell_type": "code",
   "execution_count": 99,
   "id": "14c77eb6",
   "metadata": {},
   "outputs": [
    {
     "data": {
      "text/plain": [
       "array([0, 1, 2, 3, 4])"
      ]
     },
     "execution_count": 99,
     "metadata": {},
     "output_type": "execute_result"
    }
   ],
   "source": [
    "a=np.arange(5)\n",
    "a"
   ]
  },
  {
   "cell_type": "code",
   "execution_count": 98,
   "id": "ba048da7",
   "metadata": {},
   "outputs": [
    {
     "data": {
      "text/plain": [
       "[1, 2, 3, 4, 5]"
      ]
     },
     "execution_count": 98,
     "metadata": {},
     "output_type": "execute_result"
    }
   ],
   "source": [
    "list(1+a)"
   ]
  },
  {
   "cell_type": "code",
   "execution_count": 107,
   "id": "b67087eb",
   "metadata": {},
   "outputs": [
    {
     "name": "stdout",
     "output_type": "stream",
     "text": [
      "[1, 2, 3, 4, 5]\n",
      "<class 'numpy.int32'>\n"
     ]
    },
    {
     "data": {
      "text/plain": [
       "1"
      ]
     },
     "execution_count": 107,
     "metadata": {},
     "output_type": "execute_result"
    }
   ],
   "source": [
    "age_of_driver=['18-30', '31-50', 'Over 51', 'Unknown', 'Under 18']\n",
    "def ordinal_encoder(input_val,feats):\n",
    "    len1=len(feats)\n",
    "    feat_val=list(1+np.arange(len1))\n",
    "    print(feat_val)\n",
    "    feat_key=feats\n",
    "    feat_dict=dict(zip(feat_key,feat_val))\n",
    "    print(type(feat_dict['18-30']))\n",
    "    value=feat_dict[input_val]\n",
    "    return value\n",
    "ordinal_encoder('18-30',age_of_driver)"
   ]
  },
  {
   "cell_type": "code",
   "execution_count": 105,
   "id": "93d27ec3",
   "metadata": {},
   "outputs": [
    {
     "ename": "NameError",
     "evalue": "name 'feat_dict' is not defined",
     "output_type": "error",
     "traceback": [
      "\u001b[1;31m---------------------------------------------------------------------------\u001b[0m",
      "\u001b[1;31mNameError\u001b[0m                                 Traceback (most recent call last)",
      "\u001b[1;32m~\\AppData\\Local\\Temp\\ipykernel_9344\\1829124210.py\u001b[0m in \u001b[0;36m<module>\u001b[1;34m\u001b[0m\n\u001b[1;32m----> 1\u001b[1;33m \u001b[0mtype\u001b[0m\u001b[1;33m(\u001b[0m\u001b[0mfeat_dict\u001b[0m\u001b[1;33m[\u001b[0m\u001b[1;34m'18-30'\u001b[0m\u001b[1;33m]\u001b[0m\u001b[1;33m)\u001b[0m\u001b[1;33m\u001b[0m\u001b[1;33m\u001b[0m\u001b[0m\n\u001b[0m",
      "\u001b[1;31mNameError\u001b[0m: name 'feat_dict' is not defined"
     ]
    }
   ],
   "source": [
    "type(feat_dict['18-30'])"
   ]
  },
  {
   "cell_type": "code",
   "execution_count": null,
   "id": "732cb409",
   "metadata": {},
   "outputs": [],
   "source": []
  }
 ],
 "metadata": {
  "kernelspec": {
   "display_name": "Python 3 (ipykernel)",
   "language": "python",
   "name": "python3"
  },
  "language_info": {
   "codemirror_mode": {
    "name": "ipython",
    "version": 3
   },
   "file_extension": ".py",
   "mimetype": "text/x-python",
   "name": "python",
   "nbconvert_exporter": "python",
   "pygments_lexer": "ipython3",
   "version": "3.9.13"
  }
 },
 "nbformat": 4,
 "nbformat_minor": 5
}
